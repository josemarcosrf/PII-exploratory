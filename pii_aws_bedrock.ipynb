{
 "cells": [
  {
   "cell_type": "markdown",
   "id": "b47dcb0a-4a86-478c-a5c2-50c6b97b97b0",
   "metadata": {},
   "source": [
    "# 🪨 PII Redaction using AWS Bedrock LLMs\n",
    "\n",
    "This notebooks explores using LLM models directly to identify `Personal Identifyable Information` (PII).\n",
    "\n",
    "> ℹ️ We use [AWS Bedrock](...) and markdown inputs as produced by something like [docLing](https://docs.vllm.ai/en/stable/)\n",
    "\n",
    "> 💡 Might be best to use Bedrock through [langchain's bedrock integration](https://python.langchain.com/docs/integrations/chat/bedrock/)\n",
    "\n",
    "> ⚠️ Requires `AWS_SECRET_ACCESS_KEY` and `AWS_ACCESS_KEY_ID` env vars"
   ]
  },
  {
   "cell_type": "markdown",
   "id": "c52d248c-b13d-4a8b-8087-c1a7b098f680",
   "metadata": {},
   "source": [
    "## ⚙️ Setup"
   ]
  },
  {
   "cell_type": "code",
   "execution_count": 1,
   "id": "02d5f2b1-0de1-4aa0-937f-ff8eb27e5473",
   "metadata": {
    "execution": {
     "iopub.execute_input": "2025-04-02T19:33:49.479832Z",
     "iopub.status.busy": "2025-04-02T19:33:49.479130Z",
     "iopub.status.idle": "2025-04-02T19:33:51.474966Z",
     "shell.execute_reply": "2025-04-02T19:33:51.474108Z",
     "shell.execute_reply.started": "2025-04-02T19:33:49.479794Z"
    },
    "tags": []
   },
   "outputs": [
    {
     "name": "stdout",
     "output_type": "stream",
     "text": [
      "downloading uv 0.6.11 x86_64-unknown-linux-gnu\n",
      "no checksums to verify\n",
      "installing to /root/.local/bin\n",
      "  uv\n",
      "  uvx\n",
      "everything's installed!\n"
     ]
    }
   ],
   "source": [
    "# install uv\n",
    "!curl -LsSf https://astral.sh/uv/install.sh | sh\n",
    "\n",
    "!uv pip install -q --system ollama tqdm rich funcy boto3 python-dotenv"
   ]
  },
  {
   "cell_type": "markdown",
   "id": "0f71334b-45b6-46a0-9bf4-a859db4ebb78",
   "metadata": {},
   "source": [
    "## 🦙 LLM\n",
    "\n",
    "Let's check some random LLM chatter 🗣️\n"
   ]
  },
  {
   "cell_type": "code",
   "execution_count": 12,
   "id": "0a5ccfe8-43e0-4ba0-8834-e1c3666dbf8c",
   "metadata": {
    "execution": {
     "iopub.execute_input": "2025-04-02T19:39:24.563656Z",
     "iopub.status.busy": "2025-04-02T19:39:24.562953Z",
     "iopub.status.idle": "2025-04-02T19:39:24.583503Z",
     "shell.execute_reply": "2025-04-02T19:39:24.582961Z",
     "shell.execute_reply.started": "2025-04-02T19:39:24.563621Z"
    },
    "tags": []
   },
   "outputs": [],
   "source": [
    "import os\n",
    "import boto3\n",
    "import json\n",
    "from dotenv import load_dotenv\n",
    "\n",
    "\n",
    "load_dotenv()\n",
    "\n",
    "\n",
    "# ===================================== 👇 Configure as needed =================================\n",
    "\n",
    "AWS_REGION = \"us-east-1\"\n",
    "MISTRAL_MODEL_ID = \"mistral.mixtral-8x7b-instruct-v0:1\"\n",
    "LLAMA_MODEL_ID = \"us.meta.llama3-3-70b-instruct-v1:0\"\n",
    "\n",
    "# ===================================== 👆 Configure as needed =================================\n",
    "\n",
    "\n",
    "# Initialize the Bedrock client\n",
    "bedrock_client = boto3.client('bedrock-runtime', region_name=AWS_REGION)\n",
    "\n",
    "\n",
    "def invoke(\n",
    "    prompt:str, \n",
    "    model_id:str,\n",
    "    max_gen_len:int = 2048, \n",
    "    temperature:float = 0.0, \n",
    "    top_p:float = 0.9\n",
    "):\n",
    "    # Prepare the payload\n",
    "    payload = {\n",
    "        \"prompt\": prompt,\n",
    "        # \"max_gen_len\": max_gen_len,\n",
    "        \"temperature\": temperature,\n",
    "        \"top_p\": top_p\n",
    "    }\n",
    "    # Invoke the model\n",
    "    response = bedrock_client.invoke_model(\n",
    "        body=json.dumps(payload),\n",
    "        modelId=model_id,\n",
    "        accept='application/json',\n",
    "        contentType='application/json'\n",
    "    )\n",
    "    # Parse and print the response\n",
    "    return json.loads(response[\"body\"].read())\n",
    "    \n",
    "\n",
    "def invoke_mistral(prompt:str, model_id:str = MISTRAL_MODEL_ID):\n",
    "    MISTRAL_TEMPLATE = \"<s>[INST] {prompt}[/INST]\"\n",
    "    prompt = MISTRAL_TEMPLATE.format(prompt=prompt)\n",
    "    response = invoke(prompt, model_id)\n",
    "    return response[\"outputs\"][0][\"text\"]\n",
    "    \n",
    "    \n",
    "def invoke_llama(\n",
    "    user_prompt:str, \n",
    "    sys_prompt:str = \"You are a helpful assistant\", \n",
    "    model_id:str = LLAMA_MODEL_ID\n",
    "):\n",
    "    LLAMA_TEMPLATE = (\n",
    "        \"<|begin_of_text|><|start_header_id|>system<|end_header_id|>\\n\"\n",
    "        \"{system}<|eot_id|><|start_header_id|>user<|end_header_id|>\\n\"\n",
    "        \"{user}<|eot_id|><|start_header_id|>assistant<|end_header_id|>\\n\"\n",
    "    )\n",
    "    prompt = LLAMA_TEMPLATE.format(user=user_prompt, system=sys_prompt)\n",
    "    response = invoke(prompt, model_id)\n",
    "    return response[\"generation\"]"
   ]
  },
  {
   "cell_type": "code",
   "execution_count": 11,
   "id": "1d34ea61-0d47-4c49-8ffa-352344159bc2",
   "metadata": {
    "execution": {
     "iopub.execute_input": "2025-04-02T19:38:07.308737Z",
     "iopub.status.busy": "2025-04-02T19:38:07.308505Z",
     "iopub.status.idle": "2025-04-02T19:38:08.232357Z",
     "shell.execute_reply": "2025-04-02T19:38:08.231842Z",
     "shell.execute_reply.started": "2025-04-02T19:38:07.308721Z"
    },
    "tags": []
   },
   "outputs": [
    {
     "name": "stdout",
     "output_type": "stream",
     "text": [
      "{'ResponseMetadata': {'RequestId': 'ab689440-eae0-49b0-abde-a24bd0ff7fc0', 'HTTPStatusCode': 200, 'HTTPHeaders': {'date': 'Wed, 02 Apr 2025 19:38:08 GMT', 'content-type': 'application/json', 'content-length': '459', 'connection': 'keep-alive', 'x-amzn-requestid': 'ab689440-eae0-49b0-abde-a24bd0ff7fc0', 'x-amzn-bedrock-invocation-latency': '808', 'x-amzn-bedrock-output-token-count': '78', 'x-amzn-bedrock-input-token-count': '25'}, 'RetryAttempts': 0}, 'contentType': 'application/json', 'body': <botocore.response.StreamingBody object at 0x7fbf44208070>}\n"
     ]
    },
    {
     "data": {
      "text/plain": [
       "\"I am a computer program designed to simulate conversation, answer questions, and provide information on a wide range of topics. I'm here to help with any questions or tasks you may have, and I'll do my best to provide accurate and helpful responses. I don't have a personal identity or emotions, but I'm designed to be friendly and engaging. How can I assist you today?\""
      ]
     },
     "execution_count": 11,
     "metadata": {},
     "output_type": "execute_result"
    }
   ],
   "source": [
    "invoke_llama(\"Who are you?\")"
   ]
  },
  {
   "cell_type": "markdown",
   "id": "050ead83-c03d-4ff8-b2da-f8d16f24009b",
   "metadata": {},
   "source": [
    "## 📚 Data"
   ]
  },
  {
   "cell_type": "code",
   "execution_count": 3,
   "id": "26c465de-01ec-4939-8d81-59701107949b",
   "metadata": {
    "execution": {
     "iopub.execute_input": "2025-04-02T19:34:07.022657Z",
     "iopub.status.busy": "2025-04-02T19:34:07.021840Z",
     "iopub.status.idle": "2025-04-02T19:34:07.195416Z",
     "shell.execute_reply": "2025-04-02T19:34:07.194699Z",
     "shell.execute_reply.started": "2025-04-02T19:34:07.022647Z"
    },
    "tags": []
   },
   "outputs": [
    {
     "name": "stdout",
     "output_type": "stream",
     "text": [
      "Total markdown documents: 60\n"
     ]
    }
   ],
   "source": [
    "import re\n",
    "from pathlib import Path\n",
    "from utils import split_markdown_by_spans\n",
    "\n",
    "DATA_DIR = Path(\"/datasets/client-data-us/Banneker/Batch1\")\n",
    "\n",
    "md_docs = list(DATA_DIR.glob(\"*.md\"))\n",
    "print(f\"Total markdown documents: {len(md_docs)}\")"
   ]
  },
  {
   "cell_type": "markdown",
   "id": "de716c81-51f5-406c-a47f-f43e5af65587",
   "metadata": {},
   "source": [
    "## 🫥 Anonymisation"
   ]
  },
  {
   "cell_type": "markdown",
   "id": "c36b0aa3-6486-4bba-86c0-6076d6fbe296",
   "metadata": {},
   "source": [
    "### 🗣️ Prompts\n",
    "\n",
    "> ℹ️ Check out [Prompt templates for the AWS Bedrock models](https://docs.aws.amazon.com/bedrock/latest/userguide/prompt-templates-and-examples.html)"
   ]
  },
  {
   "cell_type": "code",
   "execution_count": 4,
   "id": "0ab14a90-330e-4485-96a6-59246212fc79",
   "metadata": {
    "execution": {
     "iopub.execute_input": "2025-04-02T19:34:12.705112Z",
     "iopub.status.busy": "2025-04-02T19:34:12.704540Z",
     "iopub.status.idle": "2025-04-02T19:34:12.709236Z",
     "shell.execute_reply": "2025-04-02T19:34:12.708685Z",
     "shell.execute_reply.started": "2025-04-02T19:34:12.705083Z"
    },
    "tags": []
   },
   "outputs": [],
   "source": [
    "SYSTEM_PROMPT = \"\"\"\n",
    "You are an expert in identifying Personal Identifyable Information (PII) in a given text according\n",
    "to the following rules:\n",
    "\n",
    "1. Case Information and Case Participants\n",
    "\n",
    "- Redact AAA Case Number / Docket Number \n",
    "- Redact Hearing Location \n",
    "- Redact Names, Physical Addresses, and Other Contact Information (Email, Website, Phone Number, etc.) of: \n",
    "    - Parties \n",
    "    - Party Representatives \n",
    "    - Advocates \n",
    "    - AAA Case Managers \n",
    "    - Arbitrators (but only if the arbitrator is the employee of a union or party) \n",
    "\n",
    "2. Names of Other Individuals and Organizations\n",
    "\n",
    "- Redact Names, Physical Addresses, and Other Contact Information (Email, Website, Phone Number, etc.) of: \n",
    "- Non-Party Organizations \n",
    "- Witnesses \n",
    "- Non-Party Individuals (Other Than Witnesses) \n",
    "\n",
    "Do Not Redact Ranks or Titles of Individuals (unless the title itself can be used to identify a party—e.g., “X County Chief of Police”) \n",
    "\n",
    "3. Details that Identify Geographical Location of Parties/Events\n",
    "\n",
    "In General: Redact any information about the location of the hearing or the matter in dispute that would de-anonymize any party. \n",
    "- Redact, if it can be used to identify the location, Names, Acronyms/Abbreviations, Physical Addresses, and Other Contact Information (Email, Website, Phone Number, etc.) of: \n",
    "    - Government Bodies (Agency, Council, Police or Fire Department, Bureau, etc.) \n",
    "    - Public Places (Parks, Beaches, Botanical Gardens, Zoos, etc.) \n",
    "    - Natural Features/Landmarks (Bodies of Water, Mountains, etc.) \n",
    "    - Streets and Highways \n",
    "    - Manmade Landmarks (Named Buildings, Bridges, Dams, Tunnels, etc.) \n",
    "    - Local Infrastructure (Schools, Universities, Hospitals, Police and Fire Stations, Correctional Facilities, Court Houses, etc.) \n",
    "    - Cultural Institutions (Museums, Theaters, Stadiums, etc.) \n",
    "    \n",
    "    \n",
    "Identify all information to be redacted and answer only with a valid formatted JSON.\n",
    "\"\"\""
   ]
  },
  {
   "cell_type": "markdown",
   "id": "51f066e2-4eff-445d-9145-39b311e2e2cb",
   "metadata": {},
   "source": [
    "### 💬 Just Chat"
   ]
  },
  {
   "cell_type": "code",
   "execution_count": null,
   "id": "7d01abd7-45a9-479b-af43-d974c5d37c78",
   "metadata": {
    "tags": []
   },
   "outputs": [],
   "source": [
    "text = md_docs[0].open().read()\n",
    "\n",
    "response = invoke_llama(sys_prompt=SYSTEM_PROMPT, user_prompt=text)\n",
    "print(response)"
   ]
  },
  {
   "cell_type": "markdown",
   "id": "a84fb458-86a7-4831-a183-d35d87e29b3c",
   "metadata": {
    "tags": []
   },
   "source": [
    "## 🔗 Langchain\n",
    "\n",
    "Here we use [langchain's](https://www.langchain.com/https://www.langchain.com/) [JsonOutputParse](https://python.langchain.com/api_reference/core/output_parsers/langchain_core.output_parsers.json.JsonOutputParser.htmlhttps://python.langchain.com/api_reference/core/output_parsers/langchain_core.output_parsers.json.JsonOutputParser.html) to parse and structure the output.\n",
    "\n",
    "> ⚠️ The current implementation passes the `system prompt` on every single call. Ideally, we would use a chat session"
   ]
  },
  {
   "cell_type": "code",
   "execution_count": 21,
   "id": "e69354cb-7129-4062-bc87-41700caccd44",
   "metadata": {
    "tags": []
   },
   "outputs": [],
   "source": [
    "!uv pip install --system -q langchain langchain-aws"
   ]
  },
  {
   "cell_type": "markdown",
   "id": "028ae58a-8f18-45ed-9b53-1a3febe40478",
   "metadata": {},
   "source": [
    "### ⌘ Schemas"
   ]
  },
  {
   "cell_type": "code",
   "execution_count": 6,
   "id": "5562ef58-f7ec-4181-a884-dc48c2093b63",
   "metadata": {
    "execution": {
     "iopub.execute_input": "2025-04-02T19:35:07.871478Z",
     "iopub.status.busy": "2025-04-02T19:35:07.871258Z",
     "iopub.status.idle": "2025-04-02T19:35:09.028800Z",
     "shell.execute_reply": "2025-04-02T19:35:09.028212Z",
     "shell.execute_reply.started": "2025-04-02T19:35:07.871460Z"
    },
    "tags": []
   },
   "outputs": [
    {
     "name": "stdout",
     "output_type": "stream",
     "text": [
      "The output should be formatted as a JSON instance that conforms to the JSON schema below.\n",
      "\n",
      "As an example, for the schema {\"properties\": {\"foo\": {\"title\": \"Foo\", \"description\": \"a list of strings\", \"type\": \"array\", \"items\": {\"type\": \"string\"}}}, \"required\": [\"foo\"]}\n",
      "the object {\"foo\": [\"bar\", \"baz\"]} is a well-formatted instance of the schema. The object {\"properties\": {\"foo\": [\"bar\", \"baz\"]}} is not well-formatted.\n",
      "\n",
      "Here is the output schema:\n",
      "```\n",
      "{\"$defs\": {\"PIIItem\": {\"properties\": {\"Type\": {\"description\": \"The type of personal idenitfyable information entity. e.g.: Name\", \"title\": \"Type\", \"type\": \"string\"}, \"Value\": {\"description\": \"The entity value. e.g: John Doe\", \"title\": \"Value\", \"type\": \"string\"}}, \"required\": [\"Type\", \"Value\"], \"title\": \"PIIItem\", \"type\": \"object\"}}, \"properties\": {\"pii\": {\"description\": \"List of identified PIIs\", \"items\": {\"$ref\": \"#/$defs/PIIItem\"}, \"title\": \"Pii\", \"type\": \"array\"}}}\n",
      "```\n"
     ]
    }
   ],
   "source": [
    "import json\n",
    "\n",
    "from collections import defaultdict\n",
    "from dateutil import parser\n",
    "from pydantic import BaseModel, Field, field_validator\n",
    "from langchain_core.output_parsers.json import JsonOutputParser\n",
    "from langchain_core.prompts.prompt import PromptTemplate\n",
    "from langchain_core.prompts import ChatPromptTemplate\n",
    "\n",
    "\n",
    "class PIIItem(BaseModel):\n",
    "    Type: str = Field(..., description=\"The type of personal idenitfyable information entity. e.g.: Name\")\n",
    "    Value: str = Field(..., description=\"The entity value. e.g: John Doe\")\n",
    "\n",
    "\n",
    "class PIIList(BaseModel):\n",
    "    pii: list[PIIItem] = Field(default_factory=list, description=\"List of identified PIIs\")\n",
    "\n",
    "\n",
    "class PIIEntities(BaseModel):\n",
    "    dates: list[str] = Field(default_factory=list, description=\"List of identified calendar dates.\")\n",
    "    person_names: list[str] = Field(default_factory=list, description=\"List of Person's or individual names\")\n",
    "    orgs: list[str] = Field(default_factory=list, description=\"List of identified company names.\")\n",
    "    telephones: list[str] = Field(default_factory=list, description=\"List of identified telephone numbers\")\n",
    "    emails: list[str] = Field(default_factory=list, description=\"List of identified email addresses\")\n",
    "    locations: list[str] = Field(default_factory=list, description=\"List of identified locations and addresses\")\n",
    "    \n",
    "                                    \n",
    "    @field_validator(\"dates\")\n",
    "    @classmethod\n",
    "    def validate_dates(cls, dates):\n",
    "        valid_dates = []\n",
    "        for date_str in dates:\n",
    "            # If it parses as float is not a date\n",
    "            try:\n",
    "                float(date_str)\n",
    "                continue\n",
    "            except ValueError:\n",
    "                pass\n",
    "            \n",
    "            # Attempt to parse the date string with fuzzy parsing disabled\n",
    "            try:\n",
    "                parsed_date = parser.parse(date_str, fuzzy=False)\n",
    "                valid_dates.append(date_str)\n",
    "            except ValueError:\n",
    "                # If parsing fails, skip this date string\n",
    "                print(f\"Invalid date format: '{date_str}'\")\n",
    "                \n",
    "        return valid_dates\n",
    "    \n",
    "    \n",
    "parser = JsonOutputParser(pydantic_object=PIIList)\n",
    "print(parser.get_format_instructions())"
   ]
  },
  {
   "cell_type": "markdown",
   "id": "f9a2600a-1a80-4fad-a3f0-28bc10988ebb",
   "metadata": {
    "tags": []
   },
   "source": [
    "### 🔏 LLM Parser Chain"
   ]
  },
  {
   "cell_type": "code",
   "execution_count": 33,
   "id": "6261b5f7-75bd-4dfb-8d78-b144deec412d",
   "metadata": {
    "tags": []
   },
   "outputs": [],
   "source": [
    "from langchain_aws import ChatBedrock\n",
    "\n",
    "\n",
    "llm = ChatBedrock(\n",
    "    model=LLAMA_MODEL_ID,\n",
    "    provider=\"meta\",\n",
    "    region_name=AWS_REGION,\n",
    "    aws_access_key_id=os.environ[\"AWS_ACCESS_KEY_ID\"],\n",
    "    aws_secret_access_key=os.environ[\"AWS_SECRET_ACCESS_KEY\"],\n",
    "    model_kwargs=dict(temperature=0),\n",
    ")\n",
    "\n",
    "messages = [\n",
    "    (\"system\", SYSTEM_PROMPT),\n",
    "    (\"human\", \"Here is the document content:\\n\\n{content}.\\n\\n{format_instructions}\"),\n",
    "]\n",
    "prompt = ChatPromptTemplate(\n",
    "    messages=messages,\n",
    "    input_variables=[\"content\"],\n",
    "    partial_variables={\"format_instructions\": parser.get_format_instructions()},\n",
    ")\n",
    "\n",
    "# Create a chain\n",
    "parsing_chain = prompt | llm | parser"
   ]
  },
  {
   "cell_type": "code",
   "execution_count": 35,
   "id": "6d9ea637-ca93-4db6-a639-4d9e87c7f382",
   "metadata": {
    "tags": []
   },
   "outputs": [
    {
     "name": "stdout",
     "output_type": "stream",
     "text": [
      "{'us.meta.llama3-3-70b-instruct-v1:0': {'input_tokens': 8438, 'output_tokens': 397, 'total_tokens': 8835}}\n",
      "💸 Estimated cost: 0.00636\n"
     ]
    },
    {
     "data": {
      "text/plain": [
       "{'pii': [{'Type': 'Company Name',\n",
       "   'Value': 'Westlake Management Services, Inc.'},\n",
       "  {'Type': 'Address', 'Value': '2801 Post Oak Blvd, Houston, TX 77056'},\n",
       "  {'Type': 'Phone Number', 'Value': '(713) 960-9111'},\n",
       "  {'Type': 'Contact Person', 'Value': 'Ryan Krueger'},\n",
       "  {'Type': 'Company Name',\n",
       "   'Value': 'Supply Chain Consultants d/b/a Arkieva, Inc.'},\n",
       "  {'Type': 'Address', 'Value': '5460 Fairmont Drive, Wilmington, DE 19808'},\n",
       "  {'Type': 'Phone Number', 'Value': '302-738-9215'},\n",
       "  {'Type': 'Name', 'Value': 'Mark Schmidt'},\n",
       "  {'Type': 'Title', 'Value': 'CIO'},\n",
       "  {'Type': 'Date', 'Value': 'July 28, 2022'},\n",
       "  {'Type': 'Name', 'Value': 'Sujit K Singh'},\n",
       "  {'Type': 'Title', 'Value': 'COO'},\n",
       "  {'Type': 'Date', 'Value': '7/29/2022'}]}"
      ]
     },
     "execution_count": 35,
     "metadata": {},
     "output_type": "execute_result"
    }
   ],
   "source": [
    "from langchain_core.callbacks import get_usage_metadata_callback\n",
    "\n",
    "\n",
    "# Read text\n",
    "text = md_docs[3].open().read()\n",
    "\n",
    "# Invoke and track token count\n",
    "token_price = 0.00072 / 1000\n",
    "with get_usage_metadata_callback() as cb:\n",
    "    res = parsing_chain.invoke({\"content\": text})\n",
    "    \n",
    "    # Token count\n",
    "    cost = cb.usage_metadata[LLAMA_MODEL_ID]['total_tokens'] * token_price\n",
    "    print(cb.usage_metadata)\n",
    "    print(f\"💸 Estimated cost: ${cost:.5f}\")\n",
    "    \n",
    "res"
   ]
  },
  {
   "cell_type": "markdown",
   "id": "28b66c9f-a09f-479c-85f1-400d13936f23",
   "metadata": {},
   "source": [
    "## 📦 Placeholders"
   ]
  },
  {
   "cell_type": "code",
   "execution_count": 16,
   "id": "35b8892f-115a-4111-a393-43d5c4337fa8",
   "metadata": {
    "tags": []
   },
   "outputs": [
    {
     "data": {
      "text/plain": [
       "{'[ADDRESS_1_REDACTED]': 'Linden Green Center 5460 Fairmont Drive Wilmington, DE 19808',\n",
       " '[ADDRESS_2_REDACTED]': '1256 North McLean Boulevard, Memphis Tennessee 38108-1241, U.S.A.',\n",
       " '[COMPANY_NAME_1_REDACTED]': 'Supply Chain Consultants, Inc.',\n",
       " '[COMPANY_NAME_2_REDACTED]': 'Arkieva',\n",
       " '[COMPANY_NAME_3_REDACTED]': 'BUCKMAN LABORATORIES INTERNATIONAL, INC.',\n",
       " '[DATE_1_REDACTED]': 'August 17, 2012',\n",
       " '[FED_ID/TIN_1_REDACTED]': '51-035 0007',\n",
       " '[NAME_1_REDACTED]': 'Sujit K. Singh',\n",
       " '[PHONE_NUMBER_1_REDACTED]': '302-738-9215',\n",
       " '[PHONE_NUMBER_2_REDACTED]': '(901) 278-0330',\n",
       " '[TITLE_1_REDACTED]': 'COO, Arkieva'}"
      ]
     },
     "execution_count": 16,
     "metadata": {},
     "output_type": "execute_result"
    }
   ],
   "source": [
    "def pii_to_placeholders(pii_list: list[dict[str, str]]) -> dict[str, str]:\n",
    "    \"\"\"Maps each entity in the list to a placeholder based on the entity type\n",
    "    \n",
    "    Args:\n",
    "        pii_list (list[dict[str, str]]): The list of identified PII entities. Each item\n",
    "            contains keys Type (type of entity) and Value (the sensitive information to be redacted).\n",
    "            \n",
    "    Returns:\n",
    "        dict[str, str]: Mapping from PII value to a placeholder string to replace \n",
    "            in for the sensitive information\n",
    "    \"\"\"\n",
    "    placeholders = {}\n",
    "    counts = defaultdict(int)\n",
    "    for pii in pii_list:\n",
    "        pii = PIIItem(**pii)\n",
    "        counts[pii.Type] += 1\n",
    "        placeholder = pii.Type.upper().replace(\" \", \"_\")\n",
    "        placeholders[pii.Value] = f\"[{placeholder}_{counts[pii.Type]}_REDACTED]\"\n",
    "        \n",
    "    return placeholders\n",
    "\n",
    "placeholders = pii_to_placeholders(res[\"pii\"])\n",
    "rev_placeholders = {v:k for k,v in placeholders.items()}\n",
    "dict(sorted(rev_placeholders.items(), key=lambda item: item[0]))"
   ]
  },
  {
   "cell_type": "markdown",
   "id": "5d8c1020-3896-41fb-bc8b-be75b6a2f149",
   "metadata": {},
   "source": [
    "## 👹 Text masking\n",
    "\n",
    "> ℹ️ As the LLM will output the PII entities but it's not really extractive, so they might differ slightly (for example spaces or commas), hence we use fuzzy matching to do the replacements."
   ]
  },
  {
   "cell_type": "code",
   "execution_count": 17,
   "id": "91b81b0a-5e1a-4b10-80ca-91fcdbff9ee2",
   "metadata": {
    "tags": []
   },
   "outputs": [
    {
     "name": "stdout",
     "output_type": "stream",
     "text": [
      "#### **MASTER LICENSE AGREEMENT**\n",
      "\n",
      "**Between Customer an[COMPANY_NAME_1_REDACTED] d/b/[COMPANY_NAME_2_REDACTED[ADDRESS_1_REDACTED] Telephone[PHONE_NUMBER_1_REDACTED] Fed ID/TIN[FED_ID/TIN_1_REDACTED]**\n",
      "\n",
      "Customer Name[COMPANY_NAME_3_REDACTED]\n",
      "\n",
      "Address[ADDRESS_2_REDACTED] Telephone[PHONE_NUMBER_2_REDACTED]\n",
      "\n",
      "ATTN:\n",
      "\n",
      "| 1.0  | DEFINITIONS<br>3             |\n",
      "|------|------------------------------|\n",
      "| 2.0  | LICENSE3                     |\n",
      "| 3.0  | USE3                         |\n",
      "| 4.0  | PAYMENT<br>4                 |\n",
      "| 5.0  | SOFTWARE MAINTENANCE4        |\n",
      "| 6.0  | WARRANTIES AND REMEDIES<br>4 |\n",
      "| 7.0  | INDEMNITY5                   |\n",
      "| 8.0  | LIMITATION OF LIABILITY5     |\n",
      "| 9.0  | OWNERSHIP6                   |\n",
      "| 10.0 | TERMINATION OF DISTRIBUTOR6  |\n",
      "| 11.0 | CONFIDENTIALITY<br>6         |\n",
      "| 12.0 | TERMINATION7                 |\n",
      "| 13.0 | QUALITY CONTROL7             |\n",
      "| 14.0 | ASSIGNMENT7                  |\n",
      "| 15.0 | U.S. EXPORT RESTRICTIONS7    |\n",
      "| 16.0 | MISCELLANEOUS<br>8           |\n",
      "\n",
      "# <span id=\"page-2-0\"></span>**1.0 DEFINITIONS**\n",
      "\n",
      "- A. \"Products\" means (i) the machine-readable object code version of the computer programs described in and specifically identified in one or more separately executed Product Schedule(s), appended hereto as Product Schedule A-1, A-2, etc. that Developer or its Distributor makes available, for use on the computer platform specified in the Product Schedule(s) (the \"Software\"), (ii) the published user manuals and documentation that Developer or its Distributor makes available for the Software (the \"Documentation\"), and (iii) the fixes, updates, upgrades, derivatives or new versions of the Software or Documentation that Developer or its Distributor may provide to Customer under this Agreement (the \"Enhancements\").\n",
      "- B. \"Designated Hardware\" means the hardware equipment specified in the applicable Product Schedule.\n",
      "- C. \"Parties\" are Buckman Laboratories International Inc. (\"Customer\") an[COMPANY_NAME_1_REDACTED] d/b/[COMPANY_NAME_2_REDACTED] (\"Developer\").\n",
      "- D. \"Distributor\" is the agent that installs and supports the application at the Customer site.\n",
      "\n",
      "## <span id=\"page-2-1\"></span>**2.0 LICENSE**\n",
      "\n",
      "Developer hereby grants Customer, and Customer hereby accepts from Developer, a nonexclusive and nontransferable right and license to use the Products specified on one or more separately executed product schedules (the \"Product Schedules\") on \"Designated Hardware\" as defined in the applicable Product Schedule and subject to the terms and conditions specified in this Agreement.\n",
      "\n",
      "## <span id=\"page-2-2\"></span>**3.0 USE**\n",
      "\n",
      "- A. Customer may use the Products only in and for Customer's own internal purposes and business operations for the term specified in the applicable Product Schedule. Customer may use the Products only on the Designated Hardware while it possesses and operates the Designated Hardware. However, if the Designated Hardware becomes temporarily inoperable Customer may load and use the Software and Enhancements on another of its computer hardware systems until the Designated Hardware becomes operable. A separate installation for the sole purpose of establishing an acceptance or testing environment is permitted. Any other change in Designated Hardware (including any increase in the number of licensed servers or authorized concurrent users) will require Developer's or the Distributor's prior approval, which may be subject to additional reasonable charges.\n",
      "- B. Customer will not (a) permit any other person to use the Products directly or indirectly, whether on a time sharing, remote job entry or service bureau arrangement or (b) install\n",
      "\n",
      "the Software or Enhancements on a network or other multi-user computer system unless otherwise specified in the applicable Product Schedule A-1 on page 9 of this Agreement.\n",
      "\n",
      "- C. Customer may make a reasonable number of back-up or archival copies of the Software and Enhancements. Customer will reproduce all confidentiality and proprietary notices on each of these copies and maintain an accurate record of the location of each of these copies.\n",
      "- D. Customer will not otherwise copy, translate, modify, adapt, decompile, disassemble or reverse engineer the object code version of the Products, except as and to the extent expressly authorized by applicable law.\n",
      "\n",
      "## <span id=\"page-3-0\"></span>**4.0 PAYMENT**\n",
      "\n",
      "Payment for software will be governed by a separate agreement between the Customer and the Distributor. Customer's non-payment within ninety (90) days of its due date shall, at the option of the Developer, constitute a material breach of this Agreement.\n",
      "\n",
      "# <span id=\"page-3-1\"></span>**5.0 SOFTWARE MAINTENANCE**\n",
      "\n",
      "- A. Software maintenance and support will be primarily provided by the Developer but it may designate its Distributor to provide such maintenance and support which will require and will be governed by a separate agreement between the Customer and the Distributor.\n",
      "- B. Developer will provide to the Distributor for release to the Customer (i) all the fixes and updates that Developer may make generally available as part of its standard Maintenance services, (ii) a replacement copy of the Product if the media becomes damaged or is destroyed to the extent that the Product is unusable.\n",
      "\n",
      "# <span id=\"page-3-2\"></span>**6.0 WARRANTIES AND REMEDIES**\n",
      "\n",
      "- A. Limited Warranty. Developer warrants that it has the right to (i) enter into this Agreement and (ii) grant the license(s) hereunder. Developer also warrants that the Software will perform substantially as described in the related and accompanying Documentation.\n",
      "- B. Remedies. In case of breach of warranty, Developer will correct or replace any defective Software within 60 days of receiving written notice of such breach from Customer, or if not practicable to correct or replace, Developer will accept the return of the defective Software and refund to Customer the License Fee actually paid to Developer for the defective Software. Customer acknowledges that this Paragraph sets forth Customer's exclusive remedy, and Developer's exclusive liability, for any breach of warranty or other duty related to the quality of the Products.\n",
      "- C. Disclaimer. Except as expressly provided in this agreement or required by applicable\n",
      "\n",
      "law, all warranties, conditions, representations, indemnities and guarantees with respect to the products, whether express or implied, arising by law, custom, prior oral or written statements by Developer, its licensors or representatives or otherwise (including, but not limited to any warranty of merchantability, satisfaction and fitness for a particular purpose) are hereby overridden, excluded and disclaimed./\n",
      "\n",
      "## <span id=\"page-4-0\"></span>**7.0 INDEMNITY**\n",
      "\n",
      "- A. Indemnity. If an action is brought against Customer claiming that a Product infringes a patent, trade secret or copyright, Developer will defend Customer at Developer's expense, and subject to this Section and Section 8, pay the damages and costs finally awarded against Customer in the infringement action, but only if: (i) Customer notifies Developer in writing within a reasonable time upon learning that the claim might be asserted, (ii) Developer has sole control over the defense of the claim and any negotiation for its settlement or compromise, and (iii) Customer takes no action that interferes with defending such a claim hereunder.\n",
      "- B. Alternative Remedy. If a claim described in Section 7(A) may be or has been asserted, Customer will permit Developer, at Developer's option and expense, to (i) procure the right to continue using the Product, (ii) replace or modify the Product to eliminate the infringement while providing functionally equivalent performance and meets the needs of Customer as met by the Product, or (iii) accept the return of the Product and refund to Customer the License Fee actually paid to Developer\n",
      "- C. Limitation. Developer shall have no indemnity obligation to Customer under this Section if the patent, copyright or trade secret infringement claim results from (i) a correction or modification of the Product not provided by Developer, (ii) the failure to promptly install an Update if installation of such Update would have avoided the infringement, or (iii) the combination of the Product with other non-Developer software.\n",
      "\n",
      "#### <span id=\"page-4-1\"></span>**8.0 LIMITATION OF LIABILITY**\n",
      "\n",
      "Developer and its licensors, representatives and distributors (hereinafter Developer, licensors, representatives and distributors jointly referred to as \"Developer\" for this section 8) shall be liable to Customer for any actions or omissions that arise under this Agreement and all related agreements executed in conjunction with this Agreement whereby Developer breaches any material term that causes damages to Customer, but under no circumstances will Developer be liable for any indirect, special, or punitive, whether foreseeable or unforeseeable, based on Customer's claims or those of its customers arising out of breach or failure of express or implied warranty, breach of contract, misrepresentation, negligence, strict liability in tort or otherwise., in no event will the aggregate liability which developer or its licensors or representatives may incur in any action or proceeding exceed the license fees actually paid by Customer for the specific Product that directly caused the damage.\n",
      "\n",
      "#### <span id=\"page-5-0\"></span>**9.0 OWNERSHIP**\n",
      "\n",
      "All trademarks, service marks, patents, copyrights, trade secrets and other proprietary rights in or related to the Products are and will remain the exclusive property of Developer or its licensors, whether or not specifically recognized or perfected under local applicable law. Customer will not take any action that jeopardizes Developer's or its licensor's proprietary rights specified in Section 3.0. Developer or its licensor will own all rights in any copy, translation, modification, adaptation or derivation of the Products, including any improvement or development thereof.\n",
      "\n",
      "#### <span id=\"page-5-1\"></span>**10.0 TERMINATION OF DISTRIBUTOR**\n",
      "\n",
      "If the relationship between the Developer and the Distributor is terminated, Customer may request software updates as specified in section 5(B) directly from the Developer. In this case, Customer agrees to pay future support fees to the Developer less any such fees paid to Distributor so that Customer is not paying twice for the same services to be rendered.\n",
      "\n",
      "#### <span id=\"page-5-2\"></span>**11.0 CONFIDENTIALITY**\n",
      "\n",
      "- A. Confidentiality. Customer acknowledges that the Products constitute and incorporate confidential and proprietary information developed or acquired by or licensed to Developer. Customer will take all reasonable precautions necessary to safeguard the confidentiality of the Products, including at a minimum, those taken by Customer to protect Customer's own confidential information. Customer will not allow the removal or defacement of any confidentiality or proprietary notice placed on the Products. The placement of copyright notices on these items will not constitute publication or otherwise impair their confidential nature.\n",
      "- B. Disclosure. Customer will not disclose, in whole or in part, the Products or any portion thereof or other information that has been designated as confidential to any individual, entity or other person, except to those of Customer's employees or consultants who require access for Customer's authorized use of the Products, provided such consultants agree in writing to comply with the use and non-disclosure restrictions applicable to the Products under this Agreement. If an unauthorized use or disclosure occurs, Customer will immediately notify Developer or the Distributor and take, at Customer's expense, all steps which may be available to recover the Products and to prevent their subsequent unauthorized use or dissemination.\n",
      "- C. Limitation. Customer will have no confidentiality obligation with respect to any portion of the Products that (i) the Customer independently developed before receiving such Products under this Agreement, (ii) the Customer lawfully obtained from a third party under no confidentiality obligation, or (iii) became available to the public other than as a result of any act or omission by the Customer or any of Customer's employees, consultants or affiliates.\n",
      "\n",
      "## <span id=\"page-6-0\"></span>**12.0 TERMINATION**\n",
      "\n",
      "- A. Customer may terminate this Agreement or any Product Schedule, without right to refund, by notifying Developer or the Distributor in writing of such termination. Developer may terminate this Agreement upon 90 days prior written notice and without judicial or administrative resolution, if Customer or any of Customer's employees, affiliates or consultants breach any term or condition hereof. Customer shall have the 90 days to cure any default, if curable. This Agreement will terminate automatically if Customer becomes insolvent or enters into bankruptcy, suspension of payments, moratorium or any other proceeding that relates to insolvency or protection of creditor's rights.\n",
      "- B. Upon termination of this Agreement for any reason, all rights granted to Customer hereunder will cease, and Customer will within a reasonable time (i) purge the Products from the Designated Hardware and all of Customer's computer systems, storage media and other files, (ii) destroy the Products and all copies thereof, and (iii) deliver to Developer an affidavit which certifies that Customer has complied with these termination obligations. The provisions of Sections 8.0, 9.0, 10.0, 11.0 and 14.0 will survive the termination of this Agreement.\n",
      "\n",
      "## <span id=\"page-6-1\"></span>**13.0 QUALITY CONTROL**\n",
      "\n",
      "During the term of this Agreement, Developer or the Distributor may, upon giving 10 days prior written notice to Customer, inspect the files, computer processors, equipment and facilities of Customer during normal working hours to verify Customer's compliance with this Agreement. Developer or Distributor may conduct such inspection twice in a calendar year. For the purpose of this Agreement, the Quality Control requirement may be satisfied by Customer providing Developer with a detailed description of the manner of use of the Product, including without limitation lists of the hardware on which Products are deployed and their locations. It is further acknowledged that the initial manner of Product deployment agreed to by the Parties under the applicable Statement of Work shall satisfy the Quality Control requirement, as shall subsequent deployment consistent therewith.\n",
      "\n",
      "#### <span id=\"page-6-2\"></span>**14.0 ASSIGNMENT**\n",
      "\n",
      "Customer shall not assign, delegate, sublicense, pledge, or otherwise transfer this Agreement or any of its rights or obligations hereunder without Developer's prior written approval. A change in control of Customer (whether by means of a merger, consolidation or other reorganization or business combination, a sale of assets, or transfer of 50% of more of the voting securities or otherwise) shall constitute an assignment hereunder.\n",
      "\n",
      "#### <span id=\"page-6-3\"></span>**15.0 U.S. EXPORT RESTRICTIONS**\n",
      "\n",
      "Customer acknowledges that the Products and all related technical information, documents and materials, are subject to export controls under the U.S. Export Administration Regulations. Customer will (a) comply strictly with all legal requirements established under these controls, (b) cooperate fully with Developer in any official or unofficial audit or inspection that relates to these controls, and (c) not export, re-export, divert or transfer, directly or indirectly, any such item or direct products thereof to any country that is embargoed by Executive Order or identified as embargoed in the Product Schedule, unless Customer has obtained prior written authorization from Developer and the U.S. Commerce Department. Upon notice to Customer, Developer may modify the list of countries identified as embargoed in the Product Schedule to conform to changes in the U.S. Export Administration Regulations.\n",
      "\n",
      "# <span id=\"page-7-0\"></span>**16.0 MISCELLANEOUS**\n",
      "\n",
      "- A. All notices or approvals required or permitted under this Agreement must be given in writing to the address provided above as well as the Distributor, or to such other address as Developer or Customer shall provide to receive notices under this Agreement. Any terms and conditions of any unilateral letter, memorandum, purchase order or other writing issued by Customer shall not be binding on Developer. Any waiver or modification of this Agreement will not be effective unless executed in writing and signed by an authorized representative of Developer and Customer. This Agreement will bind Customer's successors-in-interest.\n",
      "- B. This Agreement will be governed by and interpreted in accordance with the laws of the State of Delaware, exclusive of choice of law provisions.\n",
      "- C. If any provision of this Agreement is held to be unenforceable, in whole or in part, such holding will not affect the validity of the other provisions of this Agreement, unless Developer in good faith determines the unenforceable provision to be essential, in which case Developer may terminate this Agreement effective immediately upon notice to Customer.\n",
      "- D. Neither party to this Agreement shall have authority to take any action that shall be binding on the other party, except as may be expressly provided herein or authorized in writing.\n",
      "- E. This Agreement constitutes the complete and entire statement of all conditions and representations of the agreement between Developer and Customer with respect to its subject matter and supersedes all prior writings or understandings.\n",
      "\n",
      "# THIS AGREEMENT IS NOT EFFECTIVE UNTIL SIGNED ON BEHALF OF BOTH PARTIES.\n",
      "\n",
      "## **Read and Agreed:**\n",
      "\n",
      "By: By:\n",
      "\n",
      "Name: Name[NAME_1_REDACTED] Title: Title: COO[COMPANY_NAME_2_REDACTED] Date: Date[DATE_1_REDACTED]\n",
      "\n",
      "# **PRODUCT SCHEDULE A-1**\n",
      "\n",
      "This product schedule becomes, upon execution by both parties, a part of the Master License Agreement (MLA) betwee[COMPANY_NAME_1_REDACTED] d/b/[COMPANY_NAME_2_REDACTED] [COMPANY_NAME_2_REDACTED]), and Buckman Laboratories International Inc. (Buckman) executed on [DATE_1_REDACTED].*\n",
      "\n",
      "#### **Business Unit:** *Buckman*\n",
      "\n",
      "Zemeter Products Licensed:\n",
      "\n",
      "*Zemeter S&OP (Business Analyst, Demand Planner, S&OP Workbenches)*\n",
      "\n",
      "License Type:\n",
      "\n",
      " *Yearly License subscription: To limit the short term out of pocket investment cost Zemeter is offered in a license subscription contract. In the \"License subscription\", the Zemeter customers pay license usage per month and subscribe per year to obtain the license usage rights for the next year. It eliminates the need for a software investment up front, but it does not lead to a permanent license usage right.*\n",
      "\n",
      "Designated Hardware:\n",
      "\n",
      "- *All required hardware and software to support the Zemeter applications will be provided by the Customer.*\n",
      "- *The Zemeter products listed will be located on Customer hardware at one or more Customer locations. Customer may also engage a 3rd party to host the software at their site on Customer's behalf.*\n",
      "\n",
      "Allowed Third Parties:\n",
      "\n",
      "- *Hardware Hosting companies under contract with Buckman to host the hardware offsite or in the cloud.*\n",
      "- *Contracted Buckman employees to the extent that they have collaborative input into the planning process.*\n",
      "\n",
      "#### **Read and Agreed:**\n",
      "\n",
      "By: By:\n",
      "\n",
      "Name: Name[NAME_1_REDACTED] Title: Title: COO[COMPANY_NAME_2_REDACTED] Date: Date[DATE_1_REDACTED]\n"
     ]
    }
   ],
   "source": [
    "import copy\n",
    "import re\n",
    "import regex\n",
    "\n",
    "\n",
    "def fuzzy_redaction(text:str, placeholders: dict[str, str], edist:int = 2) -> str:\n",
    "    \"\"\"Text redaction using fuzzy text replacement given a mapping of sensitive information \n",
    "    to be replaced to its placeholders.\n",
    "    \n",
    "    Args:\n",
    "        text (str): The text to be redacted or anonimized.\n",
    "        placeholders (dict[str, str]): The mapping from sensitive entities to placeholders\n",
    "        edist (int): Maxim edit distance for fuzzy matching \n",
    "    \n",
    "    Returns:\n",
    "        str: The redacted text\n",
    "    \"\"\"\n",
    "    masked_text = copy.copy(text)\n",
    "    for ent, placeholder in placeholders.items():\n",
    "        fuzzy_pattern = f'({re.escape(ent)}){{e<={edist}}}'\n",
    "        masked_text = regex.sub(fuzzy_pattern, placeholder, masked_text) # regex.BESTMATCH\n",
    "\n",
    "    return masked_text\n",
    "    \n",
    "\n",
    "doc = md_docs[0]\n",
    "doc_name = doc.stem\n",
    "print(fuzzy_redaction(text, placeholders))"
   ]
  },
  {
   "cell_type": "markdown",
   "id": "904362b4-4033-43ba-82e4-5a3b39fb1bf0",
   "metadata": {},
   "source": [
    "## 🤖 Agent"
   ]
  },
  {
   "cell_type": "code",
   "execution_count": 18,
   "id": "8ec5c395-bae0-46ae-9795-a716207bb692",
   "metadata": {
    "tags": []
   },
   "outputs": [],
   "source": [
    "!uv pip install -q --system langgraph langchain langchain-core langchain-community"
   ]
  },
  {
   "cell_type": "code",
   "execution_count": 35,
   "id": "370e5e5d-4c57-44ab-8804-b254da3f5beb",
   "metadata": {
    "tags": []
   },
   "outputs": [
    {
     "name": "stdout",
     "output_type": "stream",
     "text": [
      "🛠️ Tools: ['identify_piis', 'pii_to_placeholders', 'fuzzy_redaction']\n"
     ]
    },
    {
     "data": {
      "image/png": "[encoded data removed]",
      "text/plain": [
       "<langgraph.graph.state.CompiledStateGraph object at 0x7f652e2e2750>"
      ]
     },
     "execution_count": 35,
     "metadata": {},
     "output_type": "execute_result"
    }
   ],
   "source": [
    "from langchain_core.tools import tool\n",
    "from langchain.tools import Tool\n",
    "from langgraph.prebuilt import create_react_agent\n",
    "from langgraph.checkpoint.memory import MemorySaver\n",
    "\n",
    "\n",
    "def print_stream(stream):\n",
    "    \"\"\"Prints to stdout the LLM's output stream\"\"\"\n",
    "    for s in stream:\n",
    "        message = s[\"messages\"][-1]\n",
    "        if isinstance(message, tuple):\n",
    "            print(message)\n",
    "        else:\n",
    "            message.pretty_print()\n",
    "            \n",
    "\n",
    "@tool\n",
    "def identify_piis(text:str) -> list[dict[str, str]]:\n",
    "    \"\"\"Identifies all Personal Identiable Information (PIIs) in the given context\n",
    "    \n",
    "    Args:\n",
    "        text (str): Text where to look for PIIs\n",
    "        \n",
    "    Returns:\n",
    "        list[dict[str, str]]: A list of all PIIs found, with each item being an object with Type and Value keys.\n",
    "    \"\"\"\n",
    "    return parsing_chain.invoke({\"content\": text})\n",
    "\n",
    "\n",
    "# Create a Tool instance from the functions defined earlier in the notebook\n",
    "placeholders_tool = Tool.from_function(\n",
    "    func=pii_to_placeholders,\n",
    "    name=\"pii_to_placeholders\",\n",
    "    description=\"Maps each entity in the list to a placeholder based on the entity type\",\n",
    ")\n",
    "\n",
    "redact_tool = Tool.from_function(\n",
    "    func=fuzzy_redaction,\n",
    "    name=\"fuzzy_redaction\",\n",
    "    description=(\n",
    "        \"Text redaction using fuzzy text replacement given a mapping of sensitive information \"\n",
    "        \"to be replaced to its placeholders.\"\n",
    "    ),\n",
    ")\n",
    "\n",
    "tools = [identify_piis, placeholders_tool, redact_tool]\n",
    "print(f\"🛠️ Tools: {[t.name for t in tools]}\")\n",
    "\n",
    "# Bind the tools to the LLM\n",
    "llm_with_tools = llm.bind_tools(tools)\n",
    "\n",
    "# Create the ReAct agent:\n",
    "# We can add \"chat memory\" to the graph with LangGraph's checkpointer\n",
    "# to retain the chat context between interactions\n",
    "memory = MemorySaver()\n",
    "agent = create_react_agent(\n",
    "    model=llm_with_tools,\n",
    "    tools=tools,\n",
    "    checkpointer=memory,\n",
    "    # prompt=PROMPT_TEMPLATE\n",
    ")\n",
    "agent"
   ]
  },
  {
   "cell_type": "code",
   "execution_count": 51,
   "id": "d920bf58-3e4b-422d-b037-d3ef063df82c",
   "metadata": {
    "tags": []
   },
   "outputs": [
    {
     "name": "stdout",
     "output_type": "stream",
     "text": [
      "To redact the given text according to the provided rules, we need to identify and redact any Personal Identifiable Information (PII) and details that could identify geographical locations of parties/events.\n",
      "\n",
      "Given text: \"This is John Doe from Winskonsin\"\n",
      "\n",
      "1. **Names of Individuals**: \"John Doe\" is a name that should be redacted as it identifies an individual.\n",
      "2. **Geographical Location**: \"Winskonsin\" appears to be a misspelling of \"Wisconsin,\" which is a state in the United States. This geographical location should be redacted if it could be used to identify the location of a party or event.\n",
      "\n",
      "Redacted text: \"This is [REDACTED] from [REDACTED]\"\n"
     ]
    }
   ],
   "source": [
    "_text = \"This is John Doe from Winskonsin\"\n",
    "\n",
    "\n",
    "messages = [\n",
    "    SystemMessage(content=SYSTEM_PROMPT),\n",
    "    HumanMessage(content=f\"Redact the following text: ```{_text}```\"),\n",
    "]\n",
    "\n",
    "\n",
    "s = llm_with_tools.invoke(messages)\n",
    "print(s.content)"
   ]
  },
  {
   "cell_type": "code",
   "execution_count": 40,
   "id": "b4cad70a-d049-48d4-987e-106a4589e8f0",
   "metadata": {
    "tags": []
   },
   "outputs": [
    {
     "name": "stdout",
     "output_type": "stream",
     "text": [
      "================================\u001b[1m Human Message \u001b[0m=================================\n",
      "\n",
      "Redact the following text: ```#### **MASTER LICENSE AGREEMENT**\n",
      "\n",
      "**Between Customer and Supply Chain Consultants, Inc. d/b/a Arkieva Linden Green Center 5460 Fairmont Drive Wilmington, DE 19808 Telephone: 302-738-9215 Fed ID/TIN: 51-035 0007**\n",
      "\n",
      "Customer Name: BUCKMAN LABORATORIES INTERNATIONAL, INC.\n",
      "\n",
      "Address: 1256 North McLean Boulevard, Memphis Tennessee 38108-1241, U.S.A. Telephone: (901) 278-0330\n",
      "\n",
      "ATTN:\n",
      "\n",
      "| 1.0  | DEFINITIONS<br>3             |\n",
      "|------|------------------------------|\n",
      "| 2.0  | LICENSE3                     |\n",
      "| 3.0  | USE3                         |\n",
      "| 4.0  | PAYMENT<br>4                 |\n",
      "| 5.0  | SOFTWARE MAINTENANCE4        |\n",
      "| 6.0  | WARRANTIES AND REMEDIES<br>4 |\n",
      "| 7.0  | INDEMNITY5                   |\n",
      "| 8.0  | LIMITATION OF LIABILITY5     |\n",
      "| 9.0  | OWNERSHIP6                   |\n",
      "| 10.0 | TERMINATION OF DISTRIBUTOR6  |\n",
      "| 11.0 | CONFIDENTIALITY<br>6         |\n",
      "| 12.0 | TERMINATION7                 |\n",
      "| 13.0 | QUALITY CONTROL7             |\n",
      "| 14.0 | ASSIGNMENT7                  |\n",
      "| 15.0 | U.S. EXPORT RESTRICTIONS7    |\n",
      "| 16.0 | MISCELLANEOUS<br>8           |\n",
      "\n",
      "# <span id=\"page-2-0\"></span>**1.0 DEFINITIONS**\n",
      "\n",
      "- A. \"Products\" means (i) the machine-readable object code version of the computer programs described in and specifically identified in one or more separately executed Product Schedule(s), appended hereto as Product Schedule A-1, A-2, etc. that Developer or its Distributor makes available, for use on the computer platform specified in the Product Schedule(s) (the \"Software\"), (ii) the published user manuals and documentation that Developer or its Distributor makes available for the Software (the \"Documentation\"), and (iii) the fixes, updates, upgrades, derivatives or new versions of the Software or Documentation that Developer or its Distributor may provide to Customer under this Agreement (the \"Enhancements\").\n",
      "- B. \"Designated Hardware\" means the hardware equipment specified in the applicable Product Schedule.\n",
      "- C. \"Parties\" are Buckman Laboratories International Inc. (\"Customer\") and Supply Chain Consultants, Inc. d/b/a Arkieva (\"Developer\").\n",
      "- D. \"Distributor\" is the agent that installs and supports the application at the Customer site.\n",
      "\n",
      "## <span id=\"page-2-1\"></span>**2.0 LICENSE**\n",
      "\n",
      "Developer hereby grants Customer, and Customer hereby accepts from Developer, a nonexclusive and nontransferable right and license to use the Products specified on one or more separately executed product schedules (the \"Product Schedules\") on \"Designated Hardware\" as defined in the applicable Product Schedule and subject to the terms and conditions specified in this Agreement.\n",
      "\n",
      "## <span id=\"page-2-2\"></span>**3.0 USE**\n",
      "\n",
      "- A. Customer may use the Products only in and for Customer's own internal purposes and business operations for the term specified in the applicable Product Schedule. Customer may use the Products only on the Designated Hardware while it possesses and operates the Designated Hardware. However, if the Designated Hardware becomes temporarily inoperable Customer may load and use the Software and Enhancements on another of its computer hardware systems until the Designated Hardware becomes operable. A separate installation for the sole purpose of establishing an acceptance or testing environment is permitted. Any other change in Designated Hardware (including any increase in the number of licensed servers or authorized concurrent users) will require Developer's or the Distributor's prior approval, which may be subject to additional reasonable charges.\n",
      "- B. Customer will not (a) permit any other person to use the Products directly or indirectly, whether on a time sharing, remote job entry or service bureau arrangement or (b) install\n",
      "\n",
      "the Software or Enhancements on a network or other multi-user computer system unless otherwise specified in the applicable Product Schedule A-1 on page 9 of this Agreement.\n",
      "\n",
      "- C. Customer may make a reasonable number of back-up or archival copies of the Software and Enhancements. Customer will reproduce all confidentiality and proprietary notices on each of these copies and maintain an accurate record of the location of each of these copies.\n",
      "- D. Customer will not otherwise copy, translate, modify, adapt, decompile, disassemble or reverse engineer the object code version of the Products, except as and to the extent expressly authorized by applicable law.\n",
      "\n",
      "## <span id=\"page-3-0\"></span>**4.0 PAYMENT**\n",
      "\n",
      "Payment for software will be governed by a separate agreement between the Customer and the Distributor. Customer's non-payment within ninety (90) days of its due date shall, at the option of the Developer, constitute a material breach of this Agreement.\n",
      "\n",
      "# <span id=\"page-3-1\"></span>**5.0 SOFTWARE MAINTENANCE**\n",
      "\n",
      "- A. Software maintenance and support will be primarily provided by the Developer but it may designate its Distributor to provide such maintenance and support which will require and will be governed by a separate agreement between the Customer and the Distributor.\n",
      "- B. Developer will provide to the Distributor for release to the Customer (i) all the fixes and updates that Developer may make generally available as part of its standard Maintenance services, (ii) a replacement copy of the Product if the media becomes damaged or is destroyed to the extent that the Product is unusable.\n",
      "\n",
      "# <span id=\"page-3-2\"></span>**6.0 WARRANTIES AND REMEDIES**\n",
      "\n",
      "- A. Limited Warranty. Developer warrants that it has the right to (i) enter into this Agreement and (ii) grant the license(s) hereunder. Developer also warrants that the Software will perform substantially as described in the related and accompanying Documentation.\n",
      "- B. Remedies. In case of breach of warranty, Developer will correct or replace any defective Software within 60 days of receiving written notice of such breach from Customer, or if not practicable to correct or replace, Developer will accept the return of the defective Software and refund to Customer the License Fee actually paid to Developer for the defective Software. Customer acknowledges that this Paragraph sets forth Customer's exclusive remedy, and Developer's exclusive liability, for any breach of warranty or other duty related to the quality of the Products.\n",
      "- C. Disclaimer. Except as expressly provided in this agreement or required by applicable\n",
      "\n",
      "law, all warranties, conditions, representations, indemnities and guarantees with respect to the products, whether express or implied, arising by law, custom, prior oral or written statements by Developer, its licensors or representatives or otherwise (including, but not limited to any warranty of merchantability, satisfaction and fitness for a particular purpose) are hereby overridden, excluded and disclaimed./\n",
      "\n",
      "## <span id=\"page-4-0\"></span>**7.0 INDEMNITY**\n",
      "\n",
      "- A. Indemnity. If an action is brought against Customer claiming that a Product infringes a patent, trade secret or copyright, Developer will defend Customer at Developer's expense, and subject to this Section and Section 8, pay the damages and costs finally awarded against Customer in the infringement action, but only if: (i) Customer notifies Developer in writing within a reasonable time upon learning that the claim might be asserted, (ii) Developer has sole control over the defense of the claim and any negotiation for its settlement or compromise, and (iii) Customer takes no action that interferes with defending such a claim hereunder.\n",
      "- B. Alternative Remedy. If a claim described in Section 7(A) may be or has been asserted, Customer will permit Developer, at Developer's option and expense, to (i) procure the right to continue using the Product, (ii) replace or modify the Product to eliminate the infringement while providing functionally equivalent performance and meets the needs of Customer as met by the Product, or (iii) accept the return of the Product and refund to Customer the License Fee actually paid to Developer\n",
      "- C. Limitation. Developer shall have no indemnity obligation to Customer under this Section if the patent, copyright or trade secret infringement claim results from (i) a correction or modification of the Product not provided by Developer, (ii) the failure to promptly install an Update if installation of such Update would have avoided the infringement, or (iii) the combination of the Product with other non-Developer software.\n",
      "\n",
      "#### <span id=\"page-4-1\"></span>**8.0 LIMITATION OF LIABILITY**\n",
      "\n",
      "Developer and its licensors, representatives and distributors (hereinafter Developer, licensors, representatives and distributors jointly referred to as \"Developer\" for this section 8) shall be liable to Customer for any actions or omissions that arise under this Agreement and all related agreements executed in conjunction with this Agreement whereby Developer breaches any material term that causes damages to Customer, but under no circumstances will Developer be liable for any indirect, special, or punitive, whether foreseeable or unforeseeable, based on Customer's claims or those of its customers arising out of breach or failure of express or implied warranty, breach of contract, misrepresentation, negligence, strict liability in tort or otherwise., in no event will the aggregate liability which developer or its licensors or representatives may incur in any action or proceeding exceed the license fees actually paid by Customer for the specific Product that directly caused the damage.\n",
      "\n",
      "#### <span id=\"page-5-0\"></span>**9.0 OWNERSHIP**\n",
      "\n",
      "All trademarks, service marks, patents, copyrights, trade secrets and other proprietary rights in or related to the Products are and will remain the exclusive property of Developer or its licensors, whether or not specifically recognized or perfected under local applicable law. Customer will not take any action that jeopardizes Developer's or its licensor's proprietary rights specified in Section 3.0. Developer or its licensor will own all rights in any copy, translation, modification, adaptation or derivation of the Products, including any improvement or development thereof.\n",
      "\n",
      "#### <span id=\"page-5-1\"></span>**10.0 TERMINATION OF DISTRIBUTOR**\n",
      "\n",
      "If the relationship between the Developer and the Distributor is terminated, Customer may request software updates as specified in section 5(B) directly from the Developer. In this case, Customer agrees to pay future support fees to the Developer less any such fees paid to Distributor so that Customer is not paying twice for the same services to be rendered.\n",
      "\n",
      "#### <span id=\"page-5-2\"></span>**11.0 CONFIDENTIALITY**\n",
      "\n",
      "- A. Confidentiality. Customer acknowledges that the Products constitute and incorporate confidential and proprietary information developed or acquired by or licensed to Developer. Customer will take all reasonable precautions necessary to safeguard the confidentiality of the Products, including at a minimum, those taken by Customer to protect Customer's own confidential information. Customer will not allow the removal or defacement of any confidentiality or proprietary notice placed on the Products. The placement of copyright notices on these items will not constitute publication or otherwise impair their confidential nature.\n",
      "- B. Disclosure. Customer will not disclose, in whole or in part, the Products or any portion thereof or other information that has been designated as confidential to any individual, entity or other person, except to those of Customer's employees or consultants who require access for Customer's authorized use of the Products, provided such consultants agree in writing to comply with the use and non-disclosure restrictions applicable to the Products under this Agreement. If an unauthorized use or disclosure occurs, Customer will immediately notify Developer or the Distributor and take, at Customer's expense, all steps which may be available to recover the Products and to prevent their subsequent unauthorized use or dissemination.\n",
      "- C. Limitation. Customer will have no confidentiality obligation with respect to any portion of the Products that (i) the Customer independently developed before receiving such Products under this Agreement, (ii) the Customer lawfully obtained from a third party under no confidentiality obligation, or (iii) became available to the public other than as a result of any act or omission by the Customer or any of Customer's employees, consultants or affiliates.\n",
      "\n",
      "## <span id=\"page-6-0\"></span>**12.0 TERMINATION**\n",
      "\n",
      "- A. Customer may terminate this Agreement or any Product Schedule, without right to refund, by notifying Developer or the Distributor in writing of such termination. Developer may terminate this Agreement upon 90 days prior written notice and without judicial or administrative resolution, if Customer or any of Customer's employees, affiliates or consultants breach any term or condition hereof. Customer shall have the 90 days to cure any default, if curable. This Agreement will terminate automatically if Customer becomes insolvent or enters into bankruptcy, suspension of payments, moratorium or any other proceeding that relates to insolvency or protection of creditor's rights.\n",
      "- B. Upon termination of this Agreement for any reason, all rights granted to Customer hereunder will cease, and Customer will within a reasonable time (i) purge the Products from the Designated Hardware and all of Customer's computer systems, storage media and other files, (ii) destroy the Products and all copies thereof, and (iii) deliver to Developer an affidavit which certifies that Customer has complied with these termination obligations. The provisions of Sections 8.0, 9.0, 10.0, 11.0 and 14.0 will survive the termination of this Agreement.\n",
      "\n",
      "## <span id=\"page-6-1\"></span>**13.0 QUALITY CONTROL**\n",
      "\n",
      "During the term of this Agreement, Developer or the Distributor may, upon giving 10 days prior written notice to Customer, inspect the files, computer processors, equipment and facilities of Customer during normal working hours to verify Customer's compliance with this Agreement. Developer or Distributor may conduct such inspection twice in a calendar year. For the purpose of this Agreement, the Quality Control requirement may be satisfied by Customer providing Developer with a detailed description of the manner of use of the Product, including without limitation lists of the hardware on which Products are deployed and their locations. It is further acknowledged that the initial manner of Product deployment agreed to by the Parties under the applicable Statement of Work shall satisfy the Quality Control requirement, as shall subsequent deployment consistent therewith.\n",
      "\n",
      "#### <span id=\"page-6-2\"></span>**14.0 ASSIGNMENT**\n",
      "\n",
      "Customer shall not assign, delegate, sublicense, pledge, or otherwise transfer this Agreement or any of its rights or obligations hereunder without Developer's prior written approval. A change in control of Customer (whether by means of a merger, consolidation or other reorganization or business combination, a sale of assets, or transfer of 50% of more of the voting securities or otherwise) shall constitute an assignment hereunder.\n",
      "\n",
      "#### <span id=\"page-6-3\"></span>**15.0 U.S. EXPORT RESTRICTIONS**\n",
      "\n",
      "Customer acknowledges that the Products and all related technical information, documents and materials, are subject to export controls under the U.S. Export Administration Regulations. Customer will (a) comply strictly with all legal requirements established under these controls, (b) cooperate fully with Developer in any official or unofficial audit or inspection that relates to these controls, and (c) not export, re-export, divert or transfer, directly or indirectly, any such item or direct products thereof to any country that is embargoed by Executive Order or identified as embargoed in the Product Schedule, unless Customer has obtained prior written authorization from Developer and the U.S. Commerce Department. Upon notice to Customer, Developer may modify the list of countries identified as embargoed in the Product Schedule to conform to changes in the U.S. Export Administration Regulations.\n",
      "\n",
      "# <span id=\"page-7-0\"></span>**16.0 MISCELLANEOUS**\n",
      "\n",
      "- A. All notices or approvals required or permitted under this Agreement must be given in writing to the address provided above as well as the Distributor, or to such other address as Developer or Customer shall provide to receive notices under this Agreement. Any terms and conditions of any unilateral letter, memorandum, purchase order or other writing issued by Customer shall not be binding on Developer. Any waiver or modification of this Agreement will not be effective unless executed in writing and signed by an authorized representative of Developer and Customer. This Agreement will bind Customer's successors-in-interest.\n",
      "- B. This Agreement will be governed by and interpreted in accordance with the laws of the State of Delaware, exclusive of choice of law provisions.\n",
      "- C. If any provision of this Agreement is held to be unenforceable, in whole or in part, such holding will not affect the validity of the other provisions of this Agreement, unless Developer in good faith determines the unenforceable provision to be essential, in which case Developer may terminate this Agreement effective immediately upon notice to Customer.\n",
      "- D. Neither party to this Agreement shall have authority to take any action that shall be binding on the other party, except as may be expressly provided herein or authorized in writing.\n",
      "- E. This Agreement constitutes the complete and entire statement of all conditions and representations of the agreement between Developer and Customer with respect to its subject matter and supersedes all prior writings or understandings.\n",
      "\n",
      "# THIS AGREEMENT IS NOT EFFECTIVE UNTIL SIGNED ON BEHALF OF BOTH PARTIES.\n",
      "\n",
      "## **Read and Agreed:**\n",
      "\n",
      "By: By:\n",
      "\n",
      "Name: Name: Sujit K. Singh Title: Title: COO, Arkieva Date: Date: August 17, 2012\n",
      "\n",
      "# **PRODUCT SCHEDULE A-1**\n",
      "\n",
      "This product schedule becomes, upon execution by both parties, a part of the Master License Agreement (MLA) between Supply Chain Consultants, Inc. d/b/a Arkieva (Arkieva), and Buckman Laboratories International Inc. (Buckman) executed on *August 17 , 2012.*\n",
      "\n",
      "#### **Business Unit:** *Buckman*\n",
      "\n",
      "Zemeter Products Licensed:\n",
      "\n",
      "*Zemeter S&OP (Business Analyst, Demand Planner, S&OP Workbenches)*\n",
      "\n",
      "License Type:\n",
      "\n",
      " *Yearly License subscription: To limit the short term out of pocket investment cost Zemeter is offered in a license subscription contract. In the \"License subscription\", the Zemeter customers pay license usage per month and subscribe per year to obtain the license usage rights for the next year. It eliminates the need for a software investment up front, but it does not lead to a permanent license usage right.*\n",
      "\n",
      "Designated Hardware:\n",
      "\n",
      "- *All required hardware and software to support the Zemeter applications will be provided by the Customer.*\n",
      "- *The Zemeter products listed will be located on Customer hardware at one or more Customer locations. Customer may also engage a 3rd party to host the software at their site on Customer's behalf.*\n",
      "\n",
      "Allowed Third Parties:\n",
      "\n",
      "- *Hardware Hosting companies under contract with Buckman to host the hardware offsite or in the cloud.*\n",
      "- *Contracted Buckman employees to the extent that they have collaborative input into the planning process.*\n",
      "\n",
      "#### **Read and Agreed:**\n",
      "\n",
      "By: By:\n",
      "\n",
      "Name: Name: Sujit K. Singh Title: Title: COO, Arkieva Date: Date: August 17, 2012```\n",
      "==================================\u001b[1m Ai Message \u001b[0m==================================\n",
      "\n",
      "To redact the given text, I will follow the sequence of identifying Personal Identifiable Information (PII), creating placeholders for the found PII, and finally redacting the text.\n",
      "\n",
      "### Step 1: Identify PII\n",
      "\n",
      "The following PII has been identified in the text:\n",
      "1. **Names**: Sujit K. Singh\n",
      "2. **Company Names**: Supply Chain Consultants, Inc., Arkieva, Buckman Laboratories International Inc.\n",
      "3. **Addresses**: 5460 Fairmont Drive, Wilmington, DE 19808; 1256 North McLean Boulevard, Memphis, Tennessee 38108-1241\n",
      "4. **Telephone Numbers**: 302-738-9215, (901) 278-0330\n",
      "5. **Fed ID/TIN**: 51-035 0007\n",
      "6. **Dates**: August 17, 2012\n",
      "7. **Titles**: COO\n",
      "\n",
      "### Step 2: Create Placeholders for PII\n",
      "\n",
      "To protect the identified PII, the following placeholders will be used:\n",
      "1. **[NAME]** for names\n",
      "2. **[COMPANY]** for company names\n",
      "3. **[ADDRESS]** for addresses\n",
      "4. **[PHONE_NUMBER]** for telephone numbers\n",
      "5. **[TIN]** for Fed ID/TIN\n",
      "6. **[DATE]** for dates\n",
      "7. **[TITLE]** for titles\n",
      "\n",
      "### Step 3: Redact the Text\n",
      "\n",
      "The text will be redacted by replacing the identified PII with the corresponding placeholders.\n",
      "\n",
      "``` \n",
      "#### **MASTER LICENSE AGREEMENT**\n",
      "\n",
      "**Between Customer and [COMPANY] d/b/a [COMPANY] [ADDRESS]**\n",
      "**Telephone: [PHONE_NUMBER] Fed ID/TIN: [TIN]**\n",
      "\n",
      "Customer Name: [COMPANY]\n",
      "\n",
      "Address: [ADDRESS], U.S.A. Telephone: [PHONE_NUMBER]\n",
      "\n",
      "ATTN:\n",
      "\n",
      "| 1.0  | DEFINITIONS<br>3             |\n",
      "|------|------------------------------|\n",
      "| 2.0  | LICENSE3                     |\n",
      "| 3.0  | USE3                         |\n",
      "| 4.0  | PAYMENT<br>4                 |\n",
      "| 5.0  | SOFTWARE MAINTENANCE4        |\n",
      "| 6.0  | WARRANTIES AND REMEDIES<br>4 |\n",
      "| 7.0  | INDEMNITY5                   |\n",
      "| 8.0  | LIMITATION OF LIABILITY5     |\n",
      "| 9.0  | OWNERSHIP6                   |\n",
      "| 10\n"
     ]
    }
   ],
   "source": [
    "from langchain_core.messages import HumanMessage, SystemMessage\n",
    "\n",
    "\n",
    "config = {\n",
    "    \"configurable\": {\"thread_id\": \"redaction-123\"}\n",
    "}  # The thread ID is what will give us memory\n",
    "\n",
    "messages = [\n",
    "    SystemMessage(\n",
    "        content=(\n",
    "            \"You are a helpful assistant tasked with identifying Personal Identifiable Information and then redacting \"\n",
    "            \"a given piece of text. \"\n",
    "            \"You have several tools at your disposal to identify and replace sensitive extract information. \"\n",
    "            \"Following this sequence:\\n\"\n",
    "            \"1. identify PIIs - tool 'identify_piis'\\n\"\n",
    "            \"2. create placeholders for the found PIIs and finally - tool 'pii_to_placeholders'\\n\"\n",
    "            \"3. redact the original text - tool 'fuzzy_redaction'\\n\"\n",
    "        )\n",
    "    ),\n",
    "    HumanMessage(\n",
    "        content=f\"Redact the following text: ```{text}```\"\n",
    "    ),\n",
    "]\n",
    "\n",
    "print_stream(agent.stream({\"messages\": messages}, config=config, stream_mode=\"values\"))"
   ]
  }
 ],
 "metadata": {
  "kernelspec": {
   "display_name": "Python 3 (ipykernel)",
   "language": "python",
   "name": "python3"
  },
  "language_info": {
   "codemirror_mode": {
    "name": "ipython",
    "version": 3
   },
   "file_extension": ".py",
   "mimetype": "text/x-python",
   "name": "python",
   "nbconvert_exporter": "python",
   "pygments_lexer": "ipython3",
   "version": "3.11.7"
  }
 },
 "nbformat": 4,
 "nbformat_minor": 5
}
