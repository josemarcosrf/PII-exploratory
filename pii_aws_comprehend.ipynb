{
 "cells": [
  {
   "cell_type": "markdown",
   "id": "bd204b19-177c-42c4-8519-09b9ce190046",
   "metadata": {
    "execution": {
     "iopub.execute_input": "2025-03-26T00:05:50.665387Z",
     "iopub.status.busy": "2025-03-26T00:05:50.662131Z",
     "iopub.status.idle": "2025-03-26T00:05:50.705083Z",
     "shell.execute_reply": "2025-03-26T00:05:50.704176Z",
     "shell.execute_reply.started": "2025-03-26T00:05:50.665323Z"
    }
   },
   "source": [
    "# AWS Comprehend\n",
    "\n",
    "This notebooks explores [AWS Comprehend](https://aws.amazon.com/blogs/machine-learning/detecting-and-redacting-pii-using-amazon-comprehend/) to identify `Personal Indentifyable Information` (a.k.a `PII`) entities.\n",
    "\n",
    "\n",
    "> ℹ️ Know more check the [Comprehend Examples](https://docs.aws.amazon.com/code-library/latest/ug/python_3_comprehend_code_examples.html)\n",
    "\n",
    "> ⚠️ Requires `AWS_SECRET_ACCESS_KEY` and `AWS_ACCESS_KEY_ID` env vars"
   ]
  },
  {
   "cell_type": "code",
   "execution_count": 1,
   "id": "156f0ef8-5276-479d-9d52-5988136b44a2",
   "metadata": {
    "execution": {
     "iopub.execute_input": "2025-03-29T16:35:03.290204Z",
     "iopub.status.busy": "2025-03-29T16:35:03.289973Z",
     "iopub.status.idle": "2025-03-29T16:35:05.127391Z",
     "shell.execute_reply": "2025-03-29T16:35:05.126763Z",
     "shell.execute_reply.started": "2025-03-29T16:35:03.290187Z"
    }
   },
   "outputs": [
    {
     "name": "stdout",
     "output_type": "stream",
     "text": [
      "downloading uv 0.6.10 x86_64-unknown-linux-gnu\n",
      "no checksums to verify\n",
      "installing to /root/.local/bin\n",
      "  uv\n",
      "  uvx\n",
      "everything's installed!\n",
      "\u001b[2mUsing Python 3.11.7 environment at: /usr\u001b[0m\n",
      "\u001b[2K\u001b[2mResolved \u001b[1m7 packages\u001b[0m \u001b[2min 112ms\u001b[0m\u001b[0m                                         \u001b[0m\n",
      "\u001b[2K\u001b[2mPrepared \u001b[1m2 packages\u001b[0m \u001b[2min 5ms\u001b[0m\u001b[0m                                               \n",
      "\u001b[2K\u001b[2mInstalled \u001b[1m2 packages\u001b[0m \u001b[2min 1ms\u001b[0m\u001b[0m                                 \u001b[0m\n",
      " \u001b[32m+\u001b[39m \u001b[1mjmespath\u001b[0m\u001b[2m==1.0.1\u001b[0m\n",
      " \u001b[32m+\u001b[39m \u001b[1msix\u001b[0m\u001b[2m==1.17.0\u001b[0m\n"
     ]
    }
   ],
   "source": [
    "# Install uv\n",
    "!curl -LsSf https://astral.sh/uv/install.sh | sh\n",
    "\n",
    "# Install python deps\n",
    "!uv pip install --system boto3 python-dotenv"
   ]
  },
  {
   "cell_type": "markdown",
   "id": "730996c8-0ad4-4937-9b9b-a42b77cb5090",
   "metadata": {},
   "source": [
    "## 📚 Data"
   ]
  },
  {
   "cell_type": "code",
   "execution_count": 2,
   "id": "249dac1e-cd1f-44ff-8657-da30c19d4071",
   "metadata": {
    "execution": {
     "iopub.execute_input": "2025-03-29T16:35:11.701050Z",
     "iopub.status.busy": "2025-03-29T16:35:11.700809Z",
     "iopub.status.idle": "2025-03-29T16:35:13.216237Z",
     "shell.execute_reply": "2025-03-29T16:35:13.215824Z",
     "shell.execute_reply.started": "2025-03-29T16:35:11.701031Z"
    }
   },
   "outputs": [
    {
     "name": "stdout",
     "output_type": "stream",
     "text": [
      "Total markdown documents: 60\n",
      "#### **MASTER LICENSE AGREEMENT**\n",
      "\n",
      "**Between Customer and Supply Chain Consultants, Inc. d/b/a Arkieva Linden Green Center 5460 Fairmont Drive Wilmington, DE 19808 Telephone: 302-738-9215 Fed ID/TIN: \n"
     ]
    }
   ],
   "source": [
    "from pathlib import Path\n",
    "\n",
    "DATA_DIR = Path(\"/datasets/client-data-us/\")\n",
    "\n",
    "md_docs = list(DATA_DIR.rglob(\"**/*.md\"))\n",
    "print(f\"Total markdown documents: {len(md_docs)}\")\n",
    "\n",
    "text = md_docs[0].open(\"r\").read()\n",
    "print(text[:200])"
   ]
  },
  {
   "cell_type": "code",
   "execution_count": 13,
   "id": "8d21f7d9-87e6-4b5b-8c5b-f9bab96830c0",
   "metadata": {
    "execution": {
     "iopub.execute_input": "2025-03-26T00:15:07.025013Z",
     "iopub.status.busy": "2025-03-26T00:15:07.020748Z",
     "iopub.status.idle": "2025-03-26T00:15:07.040957Z",
     "shell.execute_reply": "2025-03-26T00:15:07.039570Z",
     "shell.execute_reply.started": "2025-03-26T00:15:07.024948Z"
    }
   },
   "outputs": [
    {
     "name": "stdout",
     "output_type": "stream",
     "text": [
      "\n",
      "Detected PII Entities:\n",
      "Type: NAME, Text: 'Arkieva Linden', Confidence: 0.80\n",
      "Type: ADDRESS, Text: '5460 Fairmont Drive Wilmington, DE 19808', Confidence: 1.00\n",
      "Type: PHONE, Text: '302-738-9215', Confidence: 1.00\n",
      "Type: ADDRESS, Text: '1256 North McLean Boulevard, Memphis Tennessee 38108-1241', Confidence: 1.00\n",
      "Type: ADDRESS, Text: 'U.S.A.', Confidence: 0.78\n",
      "Type: PHONE, Text: '(901) 278-0330', Confidence: 1.00\n",
      "Type: ADDRESS, Text: 'Delaware', Confidence: 0.99\n",
      "Type: NAME, Text: 'Sujit K. Singh', Confidence: 1.00\n",
      "Type: DATE_TIME, Text: 'August 17, 2012', Confidence: 1.00\n",
      "Type: DATE_TIME, Text: 'August 17 , 2012', Confidence: 1.00\n",
      "Type: NAME, Text: 'Sujit K. Singh', Confidence: 1.00\n",
      "Type: NAME, Text: 'COO, Arkieva', Confidence: 0.50\n",
      "Type: DATE_TIME, Text: 'August 17, 2012', Confidence: 0.89\n"
     ]
    }
   ],
   "source": [
    "import boto3\n",
    "from dotenv import load_dotenv\n",
    "\n",
    "\n",
    "load_dotenv()\n",
    "\n",
    "\n",
    "def detect_and_redact_pii(text):\n",
    "    # Initialize the Comprehend client\n",
    "    comprehend_client = boto3.client(\n",
    "        'comprehend', region_name='us-east-1'\n",
    "    )  # Replace with your AWS region\n",
    "\n",
    "    # Call detect_pii_entities\n",
    "    response = comprehend_client.detect_pii_entities(\n",
    "        Text=text,\n",
    "        LanguageCode='en'\n",
    "    )\n",
    "\n",
    "    # Extract PII entities\n",
    "    pii_entities = response['Entities']\n",
    "\n",
    "    # Redact PII entities from the text\n",
    "    for entity in pii_entities[::-1]:\n",
    "        entity_type = entity['Type']\n",
    "        begin_offset = entity['BeginOffset']\n",
    "        end_offset = entity['EndOffset']\n",
    "        # Replace the PII entity with a placeholder\n",
    "        text = text[:begin_offset] + f'[{entity_type} REDACTED]' + text[end_offset:]\n",
    "\n",
    "    return text, pii_entities\n",
    "\n",
    "\n",
    "# Detect and redact PII\n",
    "# redacted_text, detected_pii = detect_and_redact_pii(text)\n",
    "\n",
    "# print(\"Redacted Text:\")\n",
    "# print(redacted_text)\n",
    "print(\"\\nDetected PII Entities:\")\n",
    "for entity in detected_pii:\n",
    "    print(f\"Type: {entity['Type']}, \"\n",
    "          f\"Text: '{text[entity['BeginOffset']:entity['EndOffset']]}', \"\n",
    "          f\"Confidence: {entity['Score']:.2f}\")"
   ]
  },
  {
   "cell_type": "code",
   "execution_count": 17,
   "id": "b6a70e66-30f1-4258-b2ef-b469aed199b6",
   "metadata": {
    "execution": {
     "iopub.execute_input": "2025-03-26T00:20:10.043623Z",
     "iopub.status.busy": "2025-03-26T00:20:10.042589Z",
     "iopub.status.idle": "2025-03-26T00:20:10.048661Z",
     "shell.execute_reply": "2025-03-26T00:20:10.048006Z",
     "shell.execute_reply.started": "2025-03-26T00:20:10.043563Z"
    }
   },
   "outputs": [
    {
     "name": "stdout",
     "output_type": "stream",
     "text": [
      "#### **MASTER LICENSE AGREEMENT**\n",
      "\n",
      "**Between Customer and Supply Chain Consultants, Inc. d/b/a [NAME REDACTED] Green Center [ADDRESS REDACTED] Telephone: [PHONE REDACTED] Fed ID/TIN: 51-035 0007**\n",
      "\n",
      "Customer Name: BUCKMAN LABORATORIES INTERNATIONAL, INC.\n",
      "\n",
      "Address: [ADDRESS REDACTED], [ADDRESS REDACTED] Telephone: [PHONE REDACTED]\n",
      "\n",
      "ATTN:\n",
      "\n",
      "| 1.0  | DEFINITIONS<br>3             |\n",
      "|------|------------------------------|\n",
      "| 2.0  | LICENSE3                     |\n",
      "| 3.0  | USE3                         |\n",
      "| 4.0  | PAYMENT<br>4                 |\n",
      "| 5.0  | SOFTWARE MAINTENANCE4        |\n",
      "| 6.0  | WARRANTIES AND REMEDIES<br>4 |\n",
      "| 7.0  | INDEMNITY5                   |\n",
      "| 8.0  | LIMITATION OF LIABILITY5     |\n",
      "| 9.0  | OWNERSHIP6                   |\n",
      "| 10.0 | TERMINATION OF DISTRIBUTOR6  |\n",
      "| 11.0 | CONFIDENTIALITY<br>6         |\n",
      "| 12.0 | TERMINATION7                 |\n",
      "| 13.0 | QUALITY CONTROL7             |\n",
      "| 14.0 | ASSIGNMENT7                  |\n",
      "| 15.0 | U.S. EXPORT RESTRICTIONS7    |\n",
      "| 16.0 | MISCELLANEOUS<br>8           |\n",
      "\n",
      "# <span id=\"page-2-0\"></span>**1.0 DEFINITIONS**\n",
      "\n",
      "- A. \"Products\" means (i) the machine-readable object code version of the computer programs described in and specifically identified in one or more separately executed Product Schedule(s), appended hereto as Product Schedule A-1, A-2, etc. that Developer or its Distributor makes available, for use on the computer platform specified in the Product Schedule(s) (the \"Software\"), (ii) the published user manuals and documentation that Developer or its Distributor makes available for the Software (the \"Documentation\"), and (iii) the fixes, updates, upgrades, derivatives or new versions of the Software or Documentation that Developer or its Distributor may provide to Customer under this Agreement (the \"Enhancements\").\n",
      "- B. \"Designated Hardware\" means the hardware equipment specified in the applicable Product Schedule.\n",
      "- C. \"Parties\" are Buckman Laboratories International Inc. (\"Customer\") and Supply Chain Consultants, Inc. d/b/a Arkieva (\"Developer\").\n",
      "- D. \"Distributor\" is the agent that installs and supports the application at the Customer site.\n",
      "\n",
      "## <span id=\"page-2-1\"></span>**2.0 LICENSE**\n",
      "\n",
      "Developer hereby grants Customer, and Customer hereby accepts from Developer, a nonexclusive and nontransferable right and license to use the Products specified on one or more separately executed product schedules (the \"Product Schedules\") on \"Designated Hardware\" as defined in the applicable Product Schedule and subject to the terms and conditions specified in this Agreement.\n",
      "\n",
      "## <span id=\"page-2-2\"></span>**3.0 USE**\n",
      "\n",
      "- A. Customer may use the Products only in and for Customer's own internal purposes and business operations for the term specified in the applicable Product Schedule. Customer may use the Products only on the Designated Hardware while it possesses and operates the Designated Hardware. However, if the Designated Hardware becomes temporarily inoperable Customer may load and use the Software and Enhancements on another of its computer hardware systems until the Designated Hardware becomes operable. A separate installation for the sole purpose of establishing an acceptance or testing environment is permitted. Any other change in Designated Hardware (including any increase in the number of licensed servers or authorized concurrent users) will require Developer's or the Distributor's prior approval, which may be subject to additional reasonable charges.\n",
      "- B. Customer will not (a) permit any other person to use the Products directly or indirectly, whether on a time sharing, remote job entry or service bureau arrangement or (b) install\n",
      "\n",
      "the Software or Enhancements on a network or other multi-user computer system unless otherwise specified in the applicable Product Schedule A-1 on page 9 of this Agreement.\n",
      "\n",
      "- C. Customer may make a reasonable number of back-up or archival copies of the Software and Enhancements. Customer will reproduce all confidentiality and proprietary notices on each of these copies and maintain an accurate record of the location of each of these copies.\n",
      "- D. Customer will not otherwise copy, translate, modify, adapt, decompile, disassemble or reverse engineer the object code version of the Products, except as and to the extent expressly authorized by applicable law.\n",
      "\n",
      "## <span id=\"page-3-0\"></span>**4.0 PAYMENT**\n",
      "\n",
      "Payment for software will be governed by a separate agreement between the Customer and the Distributor. Customer's non-payment within ninety (90) days of its due date shall, at the option of the Developer, constitute a material breach of this Agreement.\n",
      "\n",
      "# <span id=\"page-3-1\"></span>**5.0 SOFTWARE MAINTENANCE**\n",
      "\n",
      "- A. Software maintenance and support will be primarily provided by the Developer but it may designate its Distributor to provide such maintenance and support which will require and will be governed by a separate agreement between the Customer and the Distributor.\n",
      "- B. Developer will provide to the Distributor for release to the Customer (i) all the fixes and updates that Developer may make generally available as part of its standard Maintenance services, (ii) a replacement copy of the Product if the media becomes damaged or is destroyed to the extent that the Product is unusable.\n",
      "\n",
      "# <span id=\"page-3-2\"></span>**6.0 WARRANTIES AND REMEDIES**\n",
      "\n",
      "- A. Limited Warranty. Developer warrants that it has the right to (i) enter into this Agreement and (ii) grant the license(s) hereunder. Developer also warrants that the Software will perform substantially as described in the related and accompanying Documentation.\n",
      "- B. Remedies. In case of breach of warranty, Developer will correct or replace any defective Software within 60 days of receiving written notice of such breach from Customer, or if not practicable to correct or replace, Developer will accept the return of the defective Software and refund to Customer the License Fee actually paid to Developer for the defective Software. Customer acknowledges that this Paragraph sets forth Customer's exclusive remedy, and Developer's exclusive liability, for any breach of warranty or other duty related to the quality of the Products.\n",
      "- C. Disclaimer. Except as expressly provided in this agreement or required by applicable\n",
      "\n",
      "law, all warranties, conditions, representations, indemnities and guarantees with respect to the products, whether express or implied, arising by law, custom, prior oral or written statements by Developer, its licensors or representatives or otherwise (including, but not limited to any warranty of merchantability, satisfaction and fitness for a particular purpose) are hereby overridden, excluded and disclaimed./\n",
      "\n",
      "## <span id=\"page-4-0\"></span>**7.0 INDEMNITY**\n",
      "\n",
      "- A. Indemnity. If an action is brought against Customer claiming that a Product infringes a patent, trade secret or copyright, Developer will defend Customer at Developer's expense, and subject to this Section and Section 8, pay the damages and costs finally awarded against Customer in the infringement action, but only if: (i) Customer notifies Developer in writing within a reasonable time upon learning that the claim might be asserted, (ii) Developer has sole control over the defense of the claim and any negotiation for its settlement or compromise, and (iii) Customer takes no action that interferes with defending such a claim hereunder.\n",
      "- B. Alternative Remedy. If a claim described in Section 7(A) may be or has been asserted, Customer will permit Developer, at Developer's option and expense, to (i) procure the right to continue using the Product, (ii) replace or modify the Product to eliminate the infringement while providing functionally equivalent performance and meets the needs of Customer as met by the Product, or (iii) accept the return of the Product and refund to Customer the License Fee actually paid to Developer\n",
      "- C. Limitation. Developer shall have no indemnity obligation to Customer under this Section if the patent, copyright or trade secret infringement claim results from (i) a correction or modification of the Product not provided by Developer, (ii) the failure to promptly install an Update if installation of such Update would have avoided the infringement, or (iii) the combination of the Product with other non-Developer software.\n",
      "\n",
      "#### <span id=\"page-4-1\"></span>**8.0 LIMITATION OF LIABILITY**\n",
      "\n",
      "Developer and its licensors, representatives and distributors (hereinafter Developer, licensors, representatives and distributors jointly referred to as \"Developer\" for this section 8) shall be liable to Customer for any actions or omissions that arise under this Agreement and all related agreements executed in conjunction with this Agreement whereby Developer breaches any material term that causes damages to Customer, but under no circumstances will Developer be liable for any indirect, special, or punitive, whether foreseeable or unforeseeable, based on Customer's claims or those of its customers arising out of breach or failure of express or implied warranty, breach of contract, misrepresentation, negligence, strict liability in tort or otherwise., in no event will the aggregate liability which developer or its licensors or representatives may incur in any action or proceeding exceed the license fees actually paid by Customer for the specific Product that directly caused the damage.\n",
      "\n",
      "#### <span id=\"page-5-0\"></span>**9.0 OWNERSHIP**\n",
      "\n",
      "All trademarks, service marks, patents, copyrights, trade secrets and other proprietary rights in or related to the Products are and will remain the exclusive property of Developer or its licensors, whether or not specifically recognized or perfected under local applicable law. Customer will not take any action that jeopardizes Developer's or its licensor's proprietary rights specified in Section 3.0. Developer or its licensor will own all rights in any copy, translation, modification, adaptation or derivation of the Products, including any improvement or development thereof.\n",
      "\n",
      "#### <span id=\"page-5-1\"></span>**10.0 TERMINATION OF DISTRIBUTOR**\n",
      "\n",
      "If the relationship between the Developer and the Distributor is terminated, Customer may request software updates as specified in section 5(B) directly from the Developer. In this case, Customer agrees to pay future support fees to the Developer less any such fees paid to Distributor so that Customer is not paying twice for the same services to be rendered.\n",
      "\n",
      "#### <span id=\"page-5-2\"></span>**11.0 CONFIDENTIALITY**\n",
      "\n",
      "- A. Confidentiality. Customer acknowledges that the Products constitute and incorporate confidential and proprietary information developed or acquired by or licensed to Developer. Customer will take all reasonable precautions necessary to safeguard the confidentiality of the Products, including at a minimum, those taken by Customer to protect Customer's own confidential information. Customer will not allow the removal or defacement of any confidentiality or proprietary notice placed on the Products. The placement of copyright notices on these items will not constitute publication or otherwise impair their confidential nature.\n",
      "- B. Disclosure. Customer will not disclose, in whole or in part, the Products or any portion thereof or other information that has been designated as confidential to any individual, entity or other person, except to those of Customer's employees or consultants who require access for Customer's authorized use of the Products, provided such consultants agree in writing to comply with the use and non-disclosure restrictions applicable to the Products under this Agreement. If an unauthorized use or disclosure occurs, Customer will immediately notify Developer or the Distributor and take, at Customer's expense, all steps which may be available to recover the Products and to prevent their subsequent unauthorized use or dissemination.\n",
      "- C. Limitation. Customer will have no confidentiality obligation with respect to any portion of the Products that (i) the Customer independently developed before receiving such Products under this Agreement, (ii) the Customer lawfully obtained from a third party under no confidentiality obligation, or (iii) became available to the public other than as a result of any act or omission by the Customer or any of Customer's employees, consultants or affiliates.\n",
      "\n",
      "## <span id=\"page-6-0\"></span>**12.0 TERMINATION**\n",
      "\n",
      "- A. Customer may terminate this Agreement or any Product Schedule, without right to refund, by notifying Developer or the Distributor in writing of such termination. Developer may terminate this Agreement upon 90 days prior written notice and without judicial or administrative resolution, if Customer or any of Customer's employees, affiliates or consultants breach any term or condition hereof. Customer shall have the 90 days to cure any default, if curable. This Agreement will terminate automatically if Customer becomes insolvent or enters into bankruptcy, suspension of payments, moratorium or any other proceeding that relates to insolvency or protection of creditor's rights.\n",
      "- B. Upon termination of this Agreement for any reason, all rights granted to Customer hereunder will cease, and Customer will within a reasonable time (i) purge the Products from the Designated Hardware and all of Customer's computer systems, storage media and other files, (ii) destroy the Products and all copies thereof, and (iii) deliver to Developer an affidavit which certifies that Customer has complied with these termination obligations. The provisions of Sections 8.0, 9.0, 10.0, 11.0 and 14.0 will survive the termination of this Agreement.\n",
      "\n",
      "## <span id=\"page-6-1\"></span>**13.0 QUALITY CONTROL**\n",
      "\n",
      "During the term of this Agreement, Developer or the Distributor may, upon giving 10 days prior written notice to Customer, inspect the files, computer processors, equipment and facilities of Customer during normal working hours to verify Customer's compliance with this Agreement. Developer or Distributor may conduct such inspection twice in a calendar year. For the purpose of this Agreement, the Quality Control requirement may be satisfied by Customer providing Developer with a detailed description of the manner of use of the Product, including without limitation lists of the hardware on which Products are deployed and their locations. It is further acknowledged that the initial manner of Product deployment agreed to by the Parties under the applicable Statement of Work shall satisfy the Quality Control requirement, as shall subsequent deployment consistent therewith.\n",
      "\n",
      "#### <span id=\"page-6-2\"></span>**14.0 ASSIGNMENT**\n",
      "\n",
      "Customer shall not assign, delegate, sublicense, pledge, or otherwise transfer this Agreement or any of its rights or obligations hereunder without Developer's prior written approval. A change in control of Customer (whether by means of a merger, consolidation or other reorganization or business combination, a sale of assets, or transfer of 50% of more of the voting securities or otherwise) shall constitute an assignment hereunder.\n",
      "\n",
      "#### <span id=\"page-6-3\"></span>**15.0 U.S. EXPORT RESTRICTIONS**\n",
      "\n",
      "Customer acknowledges that the Products and all related technical information, documents and materials, are subject to export controls under the U.S. Export Administration Regulations. Customer will (a) comply strictly with all legal requirements established under these controls, (b) cooperate fully with Developer in any official or unofficial audit or inspection that relates to these controls, and (c) not export, re-export, divert or transfer, directly or indirectly, any such item or direct products thereof to any country that is embargoed by Executive Order or identified as embargoed in the Product Schedule, unless Customer has obtained prior written authorization from Developer and the U.S. Commerce Department. Upon notice to Customer, Developer may modify the list of countries identified as embargoed in the Product Schedule to conform to changes in the U.S. Export Administration Regulations.\n",
      "\n",
      "# <span id=\"page-7-0\"></span>**16.0 MISCELLANEOUS**\n",
      "\n",
      "- A. All notices or approvals required or permitted under this Agreement must be given in writing to the address provided above as well as the Distributor, or to such other address as Developer or Customer shall provide to receive notices under this Agreement. Any terms and conditions of any unilateral letter, memorandum, purchase order or other writing issued by Customer shall not be binding on Developer. Any waiver or modification of this Agreement will not be effective unless executed in writing and signed by an authorized representative of Developer and Customer. This Agreement will bind Customer's successors-in-interest.\n",
      "- B. This Agreement will be governed by and interpreted in accordance with the laws of the State of [ADDRESS REDACTED], exclusive of choice of law provisions.\n",
      "- C. If any provision of this Agreement is held to be unenforceable, in whole or in part, such holding will not affect the validity of the other provisions of this Agreement, unless Developer in good faith determines the unenforceable provision to be essential, in which case Developer may terminate this Agreement effective immediately upon notice to Customer.\n",
      "- D. Neither party to this Agreement shall have authority to take any action that shall be binding on the other party, except as may be expressly provided herein or authorized in writing.\n",
      "- E. This Agreement constitutes the complete and entire statement of all conditions and representations of the agreement between Developer and Customer with respect to its subject matter and supersedes all prior writings or understandings.\n",
      "\n",
      "# THIS AGREEMENT IS NOT EFFECTIVE UNTIL SIGNED ON BEHALF OF BOTH PARTIES.\n",
      "\n",
      "## **Read and Agreed:**\n",
      "\n",
      "By: By:\n",
      "\n",
      "Name: Name: [NAME REDACTED] Title: Title: COO, Arkieva Date: Date: [DATE_TIME REDACTED]\n",
      "\n",
      "# **PRODUCT SCHEDULE A-1**\n",
      "\n",
      "This product schedule becomes, upon execution by both parties, a part of the Master License Agreement (MLA) between Supply Chain Consultants, Inc. d/b/a Arkieva (Arkieva), and Buckman Laboratories International Inc. (Buckman) executed on *[DATE_TIME REDACTED].*\n",
      "\n",
      "#### **Business Unit:** *Buckman*\n",
      "\n",
      "Zemeter Products Licensed:\n",
      "\n",
      "*Zemeter S&OP (Business Analyst, Demand Planner, S&OP Workbenches)*\n",
      "\n",
      "License Type:\n",
      "\n",
      " *Yearly License subscription: To limit the short term out of pocket investment cost Zemeter is offered in a license subscription contract. In the \"License subscription\", the Zemeter customers pay license usage per month and subscribe per year to obtain the license usage rights for the next year. It eliminates the need for a software investment up front, but it does not lead to a permanent license usage right.*\n",
      "\n",
      "Designated Hardware:\n",
      "\n",
      "- *All required hardware and software to support the Zemeter applications will be provided by the Customer.*\n",
      "- *The Zemeter products listed will be located on Customer hardware at one or more Customer locations. Customer may also engage a 3rd party to host the software at their site on Customer's behalf.*\n",
      "\n",
      "Allowed Third Parties:\n",
      "\n",
      "- *Hardware Hosting companies under contract with Buckman to host the hardware offsite or in the cloud.*\n",
      "- *Contracted Buckman employees to the extent that they have collaborative input into the planning process.*\n",
      "\n",
      "#### **Read and Agreed:**\n",
      "\n",
      "By: By:\n",
      "\n",
      "Name: Name: [NAME REDACTED] Title: Title: [NAME REDACTED] Date: Date: [DATE_TIME REDACTED]\n"
     ]
    }
   ],
   "source": [
    "import copy\n",
    "\n",
    "redacted_text = copy.copy(text)\n",
    "\n",
    "# Redact PII entities from the text\n",
    "for entity in detected_pii[::-1]:\n",
    "    entity_type = entity['Type']\n",
    "    begin_offset = entity['BeginOffset']\n",
    "    end_offset = entity['EndOffset']\n",
    "    # Replace the PII entity with a placeholder\n",
    "    redacted_text = redacted_text[:begin_offset] + f'[{entity_type} REDACTED]' + redacted_text[end_offset:]\n",
    "    \n",
    "    \n",
    "print(redacted_text)"
   ]
  }
 ],
 "metadata": {
  "kernelspec": {
   "display_name": "Python 3 (ipykernel)",
   "language": "python",
   "name": "python3"
  },
  "language_info": {
   "codemirror_mode": {
    "name": "ipython",
    "version": 3
   },
   "file_extension": ".py",
   "mimetype": "text/x-python",
   "name": "python",
   "nbconvert_exporter": "python",
   "pygments_lexer": "ipython3",
   "version": "3.11.7"
  }
 },
 "nbformat": 4,
 "nbformat_minor": 5
}
