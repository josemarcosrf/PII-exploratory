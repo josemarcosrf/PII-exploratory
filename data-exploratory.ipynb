{
 "cells": [
  {
   "cell_type": "markdown",
   "id": "8c298565-0fa8-4b1f-898e-6116f873ba70",
   "metadata": {},
   "source": [
    "## ⚙️ Setup"
   ]
  },
  {
   "cell_type": "code",
   "execution_count": null,
   "id": "10800f49-74b3-4234-b5a7-388931fa5d77",
   "metadata": {},
   "outputs": [],
   "source": [
    "# Install uv\n",
    "!curl -LsSf https://astral.sh/uv/install.sh | sh\n",
    "\n",
    "# Install deps\n",
    "!uv pip install --system docling pymupdf"
   ]
  },
  {
   "cell_type": "markdown",
   "id": "7dbf41c6-97b6-40c2-b4e3-1fc60497c802",
   "metadata": {},
   "source": [
    "## 📚 Data"
   ]
  },
  {
   "cell_type": "code",
   "execution_count": 16,
   "id": "7161c5ca-3fcb-4f67-b08c-752a5f16a248",
   "metadata": {
    "tags": []
   },
   "outputs": [
    {
     "name": "stdout",
     "output_type": "stream",
     "text": [
      "📁 Found: 012100046665\n",
      "📁 Found: 012200023252\n",
      "📁 Found: 012300021267\n",
      "📁 Found: 012300047931\n",
      "📁 Found: 012300051365\n",
      "📁 Found: 022200022285\n",
      "📚 Total items: 66\n"
     ]
    }
   ],
   "source": [
    "import re\n",
    "from pathlib import Path\n",
    "from utils import split_markdown_by_spans\n",
    "\n",
    "DATA_DIR = Path(\"/datasets/client-data-us/AAA/Redaction\")\n",
    "\n",
    "# Map between unredacted and redacted files\n",
    "u2r = {}\n",
    "for doc_dir in DATA_DIR.glob(\"*/\"):\n",
    "    print(f\"📁 Found: {doc_dir.name}\")\n",
    "    redacted_files = list((doc_dir / \"Redacted\").rglob(\"*.*\"))\n",
    "    unredacted_files = list((doc_dir / \"Unredacted\").rglob(\"*.*\"))\n",
    "    redacted_fnames = [rf.name for rf in redacted_files]\n",
    "    for i, uf in enumerate(unredacted_files):\n",
    "        rfn = uf.name.replace(uf.suffix, \"-redacted\" + uf.suffix)\n",
    "        if rfn in redacted_fnames:\n",
    "            u2r[uf] = redacted_files[i]\n",
    "        \n",
    "r2u = {v:k for k,v in u2r.items()}\n",
    "print(f\"📚 Total items: {len(r2u)}\")"
   ]
  },
  {
   "cell_type": "markdown",
   "id": "531b678d-fcbf-4c8d-bfc7-1546532c02c8",
   "metadata": {},
   "source": [
    "## 📝 Convert to Markdown"
   ]
  },
  {
   "cell_type": "code",
   "execution_count": null,
   "id": "0dc16b39-b92a-4376-881a-2c9d4d1534e0",
   "metadata": {},
   "outputs": [],
   "source": [
    "from enum import Enum\n",
    "\n",
    "\n",
    "class ExportFormat(str, Enum):\n",
    "    Markdown:str = \"md\"\n",
    "    HTML:str = \"html\"\n",
    "\n",
    "    \n",
    "def docling_convert(file_path: str, export_format: str = ExportFormat.Markdown) -> str:\n",
    "    \"\"\"Convert a PDF file to text using Docling default conversion.\n",
    "\n",
    "    Args:\n",
    "        file_path (str): Path to the PDF file\n",
    "        export_format (ExportFormat): Export format (Markdown or HTML)\n",
    "    \"\"\"\n",
    "    from docling.document_converter import DocumentConverter\n",
    "\n",
    "    # Use the default Docling conversion service\n",
    "    logger.info(f\"Using docling to convert {file_path} ➡️ {export_format.name}\")\n",
    "    converter = DocumentConverter()\n",
    "    result = converter.convert(file_path)\n",
    "    if export_format == ExportFormat.Markdown:\n",
    "        return result.document.export_to_markdown()\n",
    "    elif export_format == ExportFormat.HTML:\n",
    "        return result.document.export_to_html()\n",
    "    else:\n",
    "        raise ValueError(f\"Unsupported format: {export_format}\")"
   ]
  }
 ],
 "metadata": {
  "kernelspec": {
   "display_name": "Python 3 (ipykernel)",
   "language": "python",
   "name": "python3"
  },
  "language_info": {
   "codemirror_mode": {
    "name": "ipython",
    "version": 3
   },
   "file_extension": ".py",
   "mimetype": "text/x-python",
   "name": "python",
   "nbconvert_exporter": "python",
   "pygments_lexer": "ipython3",
   "version": "3.11.7"
  }
 },
 "nbformat": 4,
 "nbformat_minor": 5
}
